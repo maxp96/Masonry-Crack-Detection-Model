{
  "nbformat": 4,
  "nbformat_minor": 0,
  "metadata": {
    "colab": {
      "name": "Copy of visualise_crack",
      "provenance": [],
      "collapsed_sections": []
    },
    "kernelspec": {
      "name": "python3",
      "display_name": "Python 3"
    }
  },
  "cells": [
    {
      "cell_type": "markdown",
      "metadata": {
        "id": "uMPd7JW5PG32",
        "colab_type": "text"
      },
      "source": [
        "This script visualises all the cracks in the augmented images. This is to ensure that augmentation is carried out OK. "
      ]
    },
    {
      "cell_type": "code",
      "metadata": {
        "id": "zkr_6lTnevpA",
        "colab_type": "code",
        "colab": {}
      },
      "source": [
        "import os\n",
        "from glob import glob as glob\n",
        "import pandas as pd\n",
        "from PIL import Image\n",
        "from PIL import ImageOps\n",
        "from PIL import ImageDraw"
      ],
      "execution_count": 0,
      "outputs": []
    },
    {
      "cell_type": "markdown",
      "metadata": {
        "id": "6vMnsKFsmn92",
        "colab_type": "text"
      },
      "source": [
        "Visualise the Mirror"
      ]
    },
    {
      "cell_type": "code",
      "metadata": {
        "id": "Cx9W-CY-fUfT",
        "colab_type": "code",
        "colab": {}
      },
      "source": [
        "%cd \"/content/drive/My Drive/CSV_Augmentation_2\""
      ],
      "execution_count": 0,
      "outputs": []
    },
    {
      "cell_type": "code",
      "metadata": {
        "id": "fYdZXzEfez07",
        "colab_type": "code",
        "colab": {}
      },
      "source": [
        "img=Image.open('/content/drive/My Drive/CSV_Augmentation_2/b/test/136b.jpg')"
      ],
      "execution_count": 0,
      "outputs": []
    },
    {
      "cell_type": "code",
      "metadata": {
        "id": "PJqXbIB-fJsq",
        "colab_type": "code",
        "colab": {}
      },
      "source": [
        "train = pd.read_csv('data/train_labels2.csv', sep =',')\n",
        "test = pd.read_csv('data/test_labels2.csv', sep =',')"
      ],
      "execution_count": 0,
      "outputs": []
    },
    {
      "cell_type": "code",
      "metadata": {
        "id": "SJv90I7lfQbi",
        "colab_type": "code",
        "colab": {}
      },
      "source": [
        "x=test.loc[test['filename']==\"136b.jpg\"]"
      ],
      "execution_count": 0,
      "outputs": []
    },
    {
      "cell_type": "code",
      "metadata": {
        "id": "IszEeKT-gTgA",
        "colab_type": "code",
        "colab": {}
      },
      "source": [
        "print(x)"
      ],
      "execution_count": 0,
      "outputs": []
    },
    {
      "cell_type": "code",
      "metadata": {
        "id": "QBRAh8TshZ1Q",
        "colab_type": "code",
        "colab": {}
      },
      "source": [
        "print(x.iloc[0][6])\n",
        "print(x.iloc[0][7])"
      ],
      "execution_count": 0,
      "outputs": []
    },
    {
      "cell_type": "code",
      "metadata": {
        "id": "gHJ25EpGg9hS",
        "colab_type": "code",
        "colab": {}
      },
      "source": [
        "min1=new_xmin1,new_ymin1=(x.iloc[0][4],x.iloc[0][5])\n",
        "min2=new_xmin2,new_ymin2=(x.iloc[1][4],x.iloc[1][5])"
      ],
      "execution_count": 0,
      "outputs": []
    },
    {
      "cell_type": "code",
      "metadata": {
        "id": "fW7MCAyYhwXN",
        "colab_type": "code",
        "colab": {}
      },
      "source": [
        "max1=new_xmax1,new_ymax1=(x.iloc[0][6],x.iloc[0][7])\n",
        "max2=new_xmax2,new_ymax2=(x.iloc[1][6],x.iloc[1][7])\n",
        "print(max2)"
      ],
      "execution_count": 0,
      "outputs": []
    },
    {
      "cell_type": "code",
      "metadata": {
        "id": "2m8dwtohjN_w",
        "colab_type": "code",
        "colab": {}
      },
      "source": [
        "img1=ImageDraw.Draw(img)\n",
        "img1.rectangle([min1,max1],fill=None,outline='red')\n",
        "img1=img1.rectangle([min2,max2],fill=None,outline='blue')\n",
        "img.save(\"/content/drive/My Drive/CSV_Augmentation_2/test1.jpg\")"
      ],
      "execution_count": 0,
      "outputs": []
    },
    {
      "cell_type": "code",
      "metadata": {
        "id": "hw0WBT4wkMti",
        "colab_type": "code",
        "colab": {}
      },
      "source": [
        "from IPython.display import Image\n",
        "Image('test1.jpg')"
      ],
      "execution_count": 0,
      "outputs": []
    },
    {
      "cell_type": "code",
      "metadata": {
        "id": "IhEymtntiKgq",
        "colab_type": "code",
        "colab": {}
      },
      "source": [
        "import os\n",
        "from glob import glob as glob\n",
        "import pandas as pd\n",
        "from PIL import Image\n",
        "from PIL import ImageOps\n",
        "from PIL import ImageDraw"
      ],
      "execution_count": 0,
      "outputs": []
    },
    {
      "cell_type": "markdown",
      "metadata": {
        "id": "rU_I9uHnmrPk",
        "colab_type": "text"
      },
      "source": [
        "Visualise the Flip"
      ]
    },
    {
      "cell_type": "code",
      "metadata": {
        "id": "OHPPIxsYl79X",
        "colab_type": "code",
        "colab": {}
      },
      "source": [
        "img=Image.open('/content/drive/My Drive/CSV_Augmentation_2/c/test/136c.jpg')"
      ],
      "execution_count": 0,
      "outputs": []
    },
    {
      "cell_type": "code",
      "metadata": {
        "id": "EZMrCwRzgt1X",
        "colab_type": "code",
        "colab": {}
      },
      "source": [
        "train = pd.read_csv('data/train_labels3.csv', sep =',')\n",
        "test = pd.read_csv('data/test_labels3.csv', sep =',')"
      ],
      "execution_count": 0,
      "outputs": []
    },
    {
      "cell_type": "code",
      "metadata": {
        "id": "yw4qQG1vgvV8",
        "colab_type": "code",
        "colab": {}
      },
      "source": [
        "x=test.loc[test['filename']==\"136c.jpg\"]"
      ],
      "execution_count": 0,
      "outputs": []
    },
    {
      "cell_type": "code",
      "metadata": {
        "id": "dBfVg-hQg0H9",
        "colab_type": "code",
        "colab": {}
      },
      "source": [
        "print(x)"
      ],
      "execution_count": 0,
      "outputs": []
    },
    {
      "cell_type": "code",
      "metadata": {
        "id": "1u-ht0NCg3Lv",
        "colab_type": "code",
        "colab": {}
      },
      "source": [
        "min1=new_xmin1,new_ymin1=(x.iloc[0][4],x.iloc[0][5])\n",
        "min2=new_xmin2,new_ymin2=(x.iloc[1][4],x.iloc[1][5])\n",
        "max1=new_xmax1,new_ymax1=(x.iloc[0][6],x.iloc[0][7])\n",
        "max2=new_xmax2,new_ymax2=(x.iloc[1][6],x.iloc[1][7])"
      ],
      "execution_count": 0,
      "outputs": []
    },
    {
      "cell_type": "code",
      "metadata": {
        "id": "50Mp2h2tg7y8",
        "colab_type": "code",
        "colab": {}
      },
      "source": [
        "img1=ImageDraw.Draw(img)\n",
        "img1.rectangle([min1,max1],fill=None,outline='red')\n",
        "img1=img1.rectangle([min2,max2],fill=None,outline='blue')\n",
        "img.save(\"/content/drive/My Drive/CSV_Augmentation_2/test2.jpg\")"
      ],
      "execution_count": 0,
      "outputs": []
    },
    {
      "cell_type": "code",
      "metadata": {
        "id": "bNhHrrgKg8XM",
        "colab_type": "code",
        "colab": {}
      },
      "source": [
        "from IPython.display import Image\n",
        "Image('test2.jpg')"
      ],
      "execution_count": 0,
      "outputs": []
    },
    {
      "cell_type": "markdown",
      "metadata": {
        "id": "SfOL1A7PWrrw",
        "colab_type": "text"
      },
      "source": [
        "Visualise the Rotation"
      ]
    },
    {
      "cell_type": "code",
      "metadata": {
        "id": "vV7-sp65h2Z2",
        "colab_type": "code",
        "colab": {}
      },
      "source": [
        "import os\n",
        "from glob import glob as glob\n",
        "import pandas as pd\n",
        "from PIL import Image\n",
        "from PIL import ImageOps\n",
        "from PIL import ImageDraw"
      ],
      "execution_count": 0,
      "outputs": []
    },
    {
      "cell_type": "code",
      "metadata": {
        "id": "27Z0AJfWWvW7",
        "colab_type": "code",
        "colab": {}
      },
      "source": [
        "img=Image.open('/content/drive/My Drive/CSV_Augmentation_2/d/test/136d.jpg')"
      ],
      "execution_count": 0,
      "outputs": []
    },
    {
      "cell_type": "code",
      "metadata": {
        "id": "VlypZGBwWvUg",
        "colab_type": "code",
        "colab": {}
      },
      "source": [
        "train = pd.read_csv('data/train_labels4.csv', sep =',')\n",
        "test = pd.read_csv('data/test_labels4.csv', sep =',')"
      ],
      "execution_count": 0,
      "outputs": []
    },
    {
      "cell_type": "code",
      "metadata": {
        "id": "61R2tM0sWvSE",
        "colab_type": "code",
        "colab": {}
      },
      "source": [
        "x=test.loc[test['filename']==\"136d.jpg\"]"
      ],
      "execution_count": 0,
      "outputs": []
    },
    {
      "cell_type": "code",
      "metadata": {
        "id": "Jc_6rBgzWvPy",
        "colab_type": "code",
        "colab": {}
      },
      "source": [
        "print(x)"
      ],
      "execution_count": 0,
      "outputs": []
    },
    {
      "cell_type": "code",
      "metadata": {
        "id": "NTQsxYLrW56R",
        "colab_type": "code",
        "colab": {}
      },
      "source": [
        "min1=new_xmin1,new_ymin1=(x.iloc[0][4],x.iloc[0][5])\n",
        "min2=new_xmin2,new_ymin2=(x.iloc[1][4],x.iloc[1][5])\n",
        "max1=new_xmax1,new_ymax1=(x.iloc[0][6],x.iloc[0][7])\n",
        "max2=new_xmax2,new_ymax2=(x.iloc[1][6],x.iloc[1][7])"
      ],
      "execution_count": 0,
      "outputs": []
    },
    {
      "cell_type": "code",
      "metadata": {
        "id": "yQn-7xRCW54B",
        "colab_type": "code",
        "colab": {}
      },
      "source": [
        "img1=ImageDraw.Draw(img)\n",
        "img1.rectangle([min1,max1],fill=None,outline='red')\n",
        "img1=img1.rectangle([min2,max2],fill=None,outline='blue')\n",
        "img.save(\"/content/drive/My Drive/CSV_Augmentation_2/test3.jpg\")"
      ],
      "execution_count": 0,
      "outputs": []
    },
    {
      "cell_type": "code",
      "metadata": {
        "id": "hol3a9Y4W51g",
        "colab_type": "code",
        "colab": {}
      },
      "source": [
        "from IPython.display import Image\n",
        "Image('test3.jpg')"
      ],
      "execution_count": 0,
      "outputs": []
    },
    {
      "cell_type": "markdown",
      "metadata": {
        "id": "z3TnqcMfb5os",
        "colab_type": "text"
      },
      "source": [
        "Visualise the Brightness 1"
      ]
    },
    {
      "cell_type": "code",
      "metadata": {
        "id": "MUDN2kFHW5zI",
        "colab_type": "code",
        "colab": {}
      },
      "source": [
        "import os\n",
        "from glob import glob as glob\n",
        "import pandas as pd\n",
        "from PIL import Image\n",
        "from PIL import ImageOps\n",
        "from PIL import ImageDraw"
      ],
      "execution_count": 0,
      "outputs": []
    },
    {
      "cell_type": "code",
      "metadata": {
        "id": "UpnZk773b_t8",
        "colab_type": "code",
        "colab": {}
      },
      "source": [
        "%cd \"/content/drive/My Drive/CSV_Augmentation_2\""
      ],
      "execution_count": 0,
      "outputs": []
    },
    {
      "cell_type": "code",
      "metadata": {
        "id": "AXtYHj4ocAJ8",
        "colab_type": "code",
        "colab": {}
      },
      "source": [
        "img=Image.open('/content/drive/My Drive/CSV_Augmentation_2/e/test/136e.jpg')"
      ],
      "execution_count": 0,
      "outputs": []
    },
    {
      "cell_type": "code",
      "metadata": {
        "id": "hK2RYQa6cHWE",
        "colab_type": "code",
        "colab": {}
      },
      "source": [
        "train = pd.read_csv('data/train_labels5.csv', sep =',')\n",
        "test = pd.read_csv('data/test_labels5.csv', sep =',')"
      ],
      "execution_count": 0,
      "outputs": []
    },
    {
      "cell_type": "code",
      "metadata": {
        "id": "SSBPd7LPcK90",
        "colab_type": "code",
        "colab": {}
      },
      "source": [
        "x=test.loc[test['filename']==\"136e.jpg\"]"
      ],
      "execution_count": 0,
      "outputs": []
    },
    {
      "cell_type": "code",
      "metadata": {
        "id": "K8ZNqJ4fcNnT",
        "colab_type": "code",
        "colab": {}
      },
      "source": [
        "print(x)"
      ],
      "execution_count": 0,
      "outputs": []
    },
    {
      "cell_type": "code",
      "metadata": {
        "id": "D-IbEX5QcNlU",
        "colab_type": "code",
        "colab": {}
      },
      "source": [
        "min1=new_xmin1,new_ymin1=(x.iloc[0][4],x.iloc[0][5])\n",
        "min2=new_xmin2,new_ymin2=(x.iloc[1][4],x.iloc[1][5])\n",
        "max1=new_xmax1,new_ymax1=(x.iloc[0][6],x.iloc[0][7])\n",
        "max2=new_xmax2,new_ymax2=(x.iloc[1][6],x.iloc[1][7])"
      ],
      "execution_count": 0,
      "outputs": []
    },
    {
      "cell_type": "code",
      "metadata": {
        "id": "jhCj4rw1cNi1",
        "colab_type": "code",
        "colab": {}
      },
      "source": [
        "img1=ImageDraw.Draw(img)\n",
        "img1.rectangle([min1,max1],fill=None,outline='red')\n",
        "img1=img1.rectangle([min2,max2],fill=None,outline='blue')\n",
        "img.save(\"/content/drive/My Drive/CSV_Augmentation_2/test4.jpg\")"
      ],
      "execution_count": 0,
      "outputs": []
    },
    {
      "cell_type": "code",
      "metadata": {
        "id": "orb1H3VicNgc",
        "colab_type": "code",
        "colab": {}
      },
      "source": [
        "from IPython.display import Image\n",
        "Image('test4.jpg')"
      ],
      "execution_count": 0,
      "outputs": []
    },
    {
      "cell_type": "markdown",
      "metadata": {
        "colab_type": "text",
        "id": "bazrHlsAeg1j"
      },
      "source": [
        "Visualise the Brightness 2"
      ]
    },
    {
      "cell_type": "code",
      "metadata": {
        "id": "zTi8UhOfe-AS",
        "colab_type": "code",
        "colab": {}
      },
      "source": [
        "import os\n",
        "from glob import glob as glob\n",
        "import pandas as pd\n",
        "from PIL import Image\n",
        "from PIL import ImageOps\n",
        "from PIL import ImageDraw"
      ],
      "execution_count": 0,
      "outputs": []
    },
    {
      "cell_type": "code",
      "metadata": {
        "id": "unZ1Fwb1dVnE",
        "colab_type": "code",
        "colab": {}
      },
      "source": [
        "%cd \"/content/drive/My Drive/CSV_Augmentation_2\""
      ],
      "execution_count": 0,
      "outputs": []
    },
    {
      "cell_type": "code",
      "metadata": {
        "id": "sJ0RgtCjeoW7",
        "colab_type": "code",
        "colab": {}
      },
      "source": [
        "img=Image.open('/content/drive/My Drive/CSV_Augmentation_2/f/test/136f.jpg')"
      ],
      "execution_count": 0,
      "outputs": []
    },
    {
      "cell_type": "code",
      "metadata": {
        "id": "rCOUhVsSerTS",
        "colab_type": "code",
        "colab": {}
      },
      "source": [
        "train = pd.read_csv('data/train_labels6.csv', sep =',')\n",
        "test = pd.read_csv('data/test_labels6.csv', sep =',')"
      ],
      "execution_count": 0,
      "outputs": []
    },
    {
      "cell_type": "code",
      "metadata": {
        "id": "g8xEbUQIevKi",
        "colab_type": "code",
        "colab": {}
      },
      "source": [
        "x=test.loc[test['filename']==\"136f.jpg\"]"
      ],
      "execution_count": 0,
      "outputs": []
    },
    {
      "cell_type": "code",
      "metadata": {
        "id": "0GjvG10BevIK",
        "colab_type": "code",
        "colab": {}
      },
      "source": [
        "print(x)"
      ],
      "execution_count": 0,
      "outputs": []
    },
    {
      "cell_type": "code",
      "metadata": {
        "id": "BEJAYSBHeyQE",
        "colab_type": "code",
        "colab": {}
      },
      "source": [
        "min1=new_xmin1,new_ymin1=(x.iloc[0][4],x.iloc[0][5])\n",
        "min2=new_xmin2,new_ymin2=(x.iloc[1][4],x.iloc[1][5])\n",
        "max1=new_xmax1,new_ymax1=(x.iloc[0][6],x.iloc[0][7])\n",
        "max2=new_xmax2,new_ymax2=(x.iloc[1][6],x.iloc[1][7])"
      ],
      "execution_count": 0,
      "outputs": []
    },
    {
      "cell_type": "code",
      "metadata": {
        "id": "MBIIUvGxeyNu",
        "colab_type": "code",
        "colab": {}
      },
      "source": [
        "img1=ImageDraw.Draw(img)\n",
        "img1.rectangle([min1,max1],fill=None,outline='red')\n",
        "img1=img1.rectangle([min2,max2],fill=None,outline='blue')\n",
        "img.save(\"/content/drive/My Drive/CSV_Augmentation_2/test5.jpg\")"
      ],
      "execution_count": 0,
      "outputs": []
    },
    {
      "cell_type": "code",
      "metadata": {
        "id": "k9N-CEGteyLa",
        "colab_type": "code",
        "colab": {}
      },
      "source": [
        "from IPython.display import Image\n",
        "Image('test5.jpg')"
      ],
      "execution_count": 0,
      "outputs": []
    },
    {
      "cell_type": "markdown",
      "metadata": {
        "id": "XMqZGKaci-Si",
        "colab_type": "text"
      },
      "source": [
        "Visualise the Contrast 1"
      ]
    },
    {
      "cell_type": "code",
      "metadata": {
        "id": "qwF6PufJfwDy",
        "colab_type": "code",
        "colab": {}
      },
      "source": [
        "import os\n",
        "from glob import glob as glob\n",
        "import pandas as pd\n",
        "from PIL import Image\n",
        "from PIL import ImageOps\n",
        "from PIL import ImageDraw"
      ],
      "execution_count": 0,
      "outputs": []
    },
    {
      "cell_type": "code",
      "metadata": {
        "id": "J9g__ce3jFp_",
        "colab_type": "code",
        "colab": {}
      },
      "source": [
        "%cd \"/content/drive/My Drive/CSV_Augmentation_2\""
      ],
      "execution_count": 0,
      "outputs": []
    },
    {
      "cell_type": "code",
      "metadata": {
        "id": "qgT3IMGwjFnn",
        "colab_type": "code",
        "colab": {}
      },
      "source": [
        "img=Image.open('/content/drive/My Drive/CSV_Augmentation_2/g/test/136g.jpg')"
      ],
      "execution_count": 0,
      "outputs": []
    },
    {
      "cell_type": "code",
      "metadata": {
        "id": "aUD0d1OwjFVI",
        "colab_type": "code",
        "colab": {}
      },
      "source": [
        "train = pd.read_csv('data/train_labels7.csv', sep =',')\n",
        "test = pd.read_csv('data/test_labels7.csv', sep =',')"
      ],
      "execution_count": 0,
      "outputs": []
    },
    {
      "cell_type": "code",
      "metadata": {
        "id": "sxWCt_JTjFSv",
        "colab_type": "code",
        "colab": {}
      },
      "source": [
        "x=test.loc[test['filename']==\"136g.jpg\"]"
      ],
      "execution_count": 0,
      "outputs": []
    },
    {
      "cell_type": "code",
      "metadata": {
        "id": "AkGFIs4vjFQP",
        "colab_type": "code",
        "colab": {}
      },
      "source": [
        "print(x)"
      ],
      "execution_count": 0,
      "outputs": []
    },
    {
      "cell_type": "code",
      "metadata": {
        "id": "UL1BiguvjFNv",
        "colab_type": "code",
        "colab": {}
      },
      "source": [
        "min1=new_xmin1,new_ymin1=(x.iloc[0][4],x.iloc[0][5])\n",
        "min2=new_xmin2,new_ymin2=(x.iloc[1][4],x.iloc[1][5])\n",
        "max1=new_xmax1,new_ymax1=(x.iloc[0][6],x.iloc[0][7])\n",
        "max2=new_xmax2,new_ymax2=(x.iloc[1][6],x.iloc[1][7])"
      ],
      "execution_count": 0,
      "outputs": []
    },
    {
      "cell_type": "code",
      "metadata": {
        "id": "QN9Ha2vZjSb2",
        "colab_type": "code",
        "colab": {}
      },
      "source": [
        "img1=ImageDraw.Draw(img)\n",
        "img1.rectangle([min1,max1],fill=None,outline='red')\n",
        "img1=img1.rectangle([min2,max2],fill=None,outline='blue')\n",
        "img.save(\"/content/drive/My Drive/CSV_Augmentation_2/test6.jpg\")"
      ],
      "execution_count": 0,
      "outputs": []
    },
    {
      "cell_type": "code",
      "metadata": {
        "id": "ccOBwZFDjSZa",
        "colab_type": "code",
        "colab": {}
      },
      "source": [
        "from IPython.display import Image\n",
        "Image('test6.jpg')"
      ],
      "execution_count": 0,
      "outputs": []
    },
    {
      "cell_type": "markdown",
      "metadata": {
        "id": "WX6l5Te8kotv",
        "colab_type": "text"
      },
      "source": [
        "Visualise Contrast 2\n",
        "\n"
      ]
    },
    {
      "cell_type": "code",
      "metadata": {
        "id": "tYNwCFk1jSWn",
        "colab_type": "code",
        "colab": {}
      },
      "source": [
        "import os\n",
        "from glob import glob as glob\n",
        "import pandas as pd\n",
        "from PIL import Image\n",
        "from PIL import ImageOps\n",
        "from PIL import ImageDraw"
      ],
      "execution_count": 0,
      "outputs": []
    },
    {
      "cell_type": "code",
      "metadata": {
        "id": "EBjGCYPwjSUW",
        "colab_type": "code",
        "colab": {}
      },
      "source": [
        "%cd \"/content/drive/My Drive/CSV_Augmentation_2\""
      ],
      "execution_count": 0,
      "outputs": []
    },
    {
      "cell_type": "code",
      "metadata": {
        "id": "aJbqHUXnkt63",
        "colab_type": "code",
        "colab": {}
      },
      "source": [
        "img=Image.open('/content/drive/My Drive/CSV_Augmentation_2/h/test/136h.jpg')"
      ],
      "execution_count": 0,
      "outputs": []
    },
    {
      "cell_type": "code",
      "metadata": {
        "id": "WcyRRLYDkt3_",
        "colab_type": "code",
        "colab": {}
      },
      "source": [
        "train = pd.read_csv('data/train_labels8.csv', sep =',')\n",
        "test = pd.read_csv('data/test_labels8.csv', sep =',')"
      ],
      "execution_count": 0,
      "outputs": []
    },
    {
      "cell_type": "code",
      "metadata": {
        "id": "yHbwKe5okt1R",
        "colab_type": "code",
        "colab": {}
      },
      "source": [
        "x=test.loc[test['filename']==\"136h.jpg\"]"
      ],
      "execution_count": 0,
      "outputs": []
    },
    {
      "cell_type": "code",
      "metadata": {
        "id": "92Q5Xk_skty4",
        "colab_type": "code",
        "colab": {}
      },
      "source": [
        "print(x)"
      ],
      "execution_count": 0,
      "outputs": []
    },
    {
      "cell_type": "code",
      "metadata": {
        "id": "nENUtju9ktwo",
        "colab_type": "code",
        "colab": {}
      },
      "source": [
        "min1=new_xmin1,new_ymin1=(x.iloc[0][4],x.iloc[0][5])\n",
        "min2=new_xmin2,new_ymin2=(x.iloc[1][4],x.iloc[1][5])\n",
        "max1=new_xmax1,new_ymax1=(x.iloc[0][6],x.iloc[0][7])\n",
        "max2=new_xmax2,new_ymax2=(x.iloc[1][6],x.iloc[1][7])"
      ],
      "execution_count": 0,
      "outputs": []
    },
    {
      "cell_type": "code",
      "metadata": {
        "id": "hYWKRVtfk6im",
        "colab_type": "code",
        "colab": {}
      },
      "source": [
        "img1=ImageDraw.Draw(img)\n",
        "img1.rectangle([min1,max1],fill=None,outline='red')\n",
        "img1=img1.rectangle([min2,max2],fill=None,outline='blue')\n",
        "img.save(\"/content/drive/My Drive/CSV_Augmentation_2/test7.jpg\")"
      ],
      "execution_count": 0,
      "outputs": []
    },
    {
      "cell_type": "code",
      "metadata": {
        "id": "cb2s6c7Lk-CO",
        "colab_type": "code",
        "colab": {}
      },
      "source": [
        "from IPython.display import Image\n",
        "Image('test7.jpg')"
      ],
      "execution_count": 0,
      "outputs": []
    },
    {
      "cell_type": "markdown",
      "metadata": {
        "id": "CXAITd0hmVlv",
        "colab_type": "text"
      },
      "source": [
        "Visualise Gauss 1"
      ]
    },
    {
      "cell_type": "code",
      "metadata": {
        "id": "B2WwpcKFlJ6W",
        "colab_type": "code",
        "colab": {}
      },
      "source": [
        "import os\n",
        "from glob import glob as glob\n",
        "import pandas as pd\n",
        "from PIL import Image\n",
        "from PIL import ImageOps\n",
        "from PIL import ImageDraw"
      ],
      "execution_count": 0,
      "outputs": []
    },
    {
      "cell_type": "code",
      "metadata": {
        "id": "ByT4Z5ZmmWDt",
        "colab_type": "code",
        "colab": {}
      },
      "source": [
        "%cd \"/content/drive/My Drive/CSV_Augmentation_2\""
      ],
      "execution_count": 0,
      "outputs": []
    },
    {
      "cell_type": "code",
      "metadata": {
        "id": "RQqY4IwxmW5s",
        "colab_type": "code",
        "colab": {}
      },
      "source": [
        "img=Image.open('/content/drive/My Drive/CSV_Augmentation_2/i/test/136i.jpg')"
      ],
      "execution_count": 0,
      "outputs": []
    },
    {
      "cell_type": "code",
      "metadata": {
        "id": "HCGiIv37mW3I",
        "colab_type": "code",
        "colab": {}
      },
      "source": [
        "train = pd.read_csv('data/train_labels9.csv', sep =',')\n",
        "test = pd.read_csv('data/test_labels9.csv', sep =',')"
      ],
      "execution_count": 0,
      "outputs": []
    },
    {
      "cell_type": "code",
      "metadata": {
        "id": "tlqv6_4vmW0i",
        "colab_type": "code",
        "colab": {}
      },
      "source": [
        "x=test.loc[test['filename']==\"136i.jpg\"]"
      ],
      "execution_count": 0,
      "outputs": []
    },
    {
      "cell_type": "code",
      "metadata": {
        "id": "j7Rr2f8BmWxu",
        "colab_type": "code",
        "colab": {}
      },
      "source": [
        "print(x)"
      ],
      "execution_count": 0,
      "outputs": []
    },
    {
      "cell_type": "code",
      "metadata": {
        "id": "RQX2Lp5gmWuY",
        "colab_type": "code",
        "colab": {}
      },
      "source": [
        "min1=new_xmin1,new_ymin1=(x.iloc[0][4],x.iloc[0][5])\n",
        "min2=new_xmin2,new_ymin2=(x.iloc[1][4],x.iloc[1][5])\n",
        "max1=new_xmax1,new_ymax1=(x.iloc[0][6],x.iloc[0][7])\n",
        "max2=new_xmax2,new_ymax2=(x.iloc[1][6],x.iloc[1][7])"
      ],
      "execution_count": 0,
      "outputs": []
    },
    {
      "cell_type": "code",
      "metadata": {
        "id": "bjapYTaRmWqe",
        "colab_type": "code",
        "colab": {}
      },
      "source": [
        "img1=ImageDraw.Draw(img)\n",
        "img1.rectangle([min1,max1],fill=None,outline='red')\n",
        "img1=img1.rectangle([min2,max2],fill=None,outline='blue')\n",
        "img.save(\"/content/drive/My Drive/CSV_Augmentation_2/test8.jpg\")"
      ],
      "execution_count": 0,
      "outputs": []
    },
    {
      "cell_type": "code",
      "metadata": {
        "id": "V5R9JLcUmsJu",
        "colab_type": "code",
        "colab": {}
      },
      "source": [
        "from IPython.display import Image\n",
        "Image('test8.jpg')"
      ],
      "execution_count": 0,
      "outputs": []
    },
    {
      "cell_type": "markdown",
      "metadata": {
        "id": "37EAaZEFoA_V",
        "colab_type": "text"
      },
      "source": [
        "Visualise Gauss 2"
      ]
    },
    {
      "cell_type": "code",
      "metadata": {
        "id": "kdQWfQJ9n-1e",
        "colab_type": "code",
        "colab": {}
      },
      "source": [
        "import os\n",
        "from glob import glob as glob\n",
        "import pandas as pd\n",
        "from PIL import Image\n",
        "from PIL import ImageOps\n",
        "from PIL import ImageDraw"
      ],
      "execution_count": 0,
      "outputs": []
    },
    {
      "cell_type": "code",
      "metadata": {
        "id": "2MJQ1nrfpDOu",
        "colab_type": "code",
        "colab": {}
      },
      "source": [
        "%cd \"/content/drive/My Drive/CSV_Augmentation_2\""
      ],
      "execution_count": 0,
      "outputs": []
    },
    {
      "cell_type": "code",
      "metadata": {
        "id": "H4YPF38ppCwl",
        "colab_type": "code",
        "colab": {}
      },
      "source": [
        "img=Image.open('/content/drive/My Drive/CSV_Augmentation_2/j/test/136j.jpg')"
      ],
      "execution_count": 0,
      "outputs": []
    },
    {
      "cell_type": "code",
      "metadata": {
        "id": "FZLLR_gGpCrl",
        "colab_type": "code",
        "colab": {}
      },
      "source": [
        "train = pd.read_csv('data/train_labels10.csv', sep =',')\n",
        "test = pd.read_csv('data/test_labels10.csv', sep =',')"
      ],
      "execution_count": 0,
      "outputs": []
    },
    {
      "cell_type": "code",
      "metadata": {
        "id": "0ywG1geBpCmd",
        "colab_type": "code",
        "colab": {}
      },
      "source": [
        "x=test.loc[test['filename']==\"136j.jpg\"]"
      ],
      "execution_count": 0,
      "outputs": []
    },
    {
      "cell_type": "code",
      "metadata": {
        "id": "uwtGLrqgpChQ",
        "colab_type": "code",
        "colab": {}
      },
      "source": [
        "print(x)"
      ],
      "execution_count": 0,
      "outputs": []
    },
    {
      "cell_type": "code",
      "metadata": {
        "id": "G1KXRY1rpCbn",
        "colab_type": "code",
        "colab": {}
      },
      "source": [
        "min1=new_xmin1,new_ymin1=(x.iloc[0][4],x.iloc[0][5])\n",
        "min2=new_xmin2,new_ymin2=(x.iloc[1][4],x.iloc[1][5])\n",
        "max1=new_xmax1,new_ymax1=(x.iloc[0][6],x.iloc[0][7])\n",
        "max2=new_xmax2,new_ymax2=(x.iloc[1][6],x.iloc[1][7])"
      ],
      "execution_count": 0,
      "outputs": []
    },
    {
      "cell_type": "code",
      "metadata": {
        "id": "s45KzL06pQ2n",
        "colab_type": "code",
        "colab": {}
      },
      "source": [
        "img1=ImageDraw.Draw(img)\n",
        "img1.rectangle([min1,max1],fill=None,outline='red')\n",
        "img1=img1.rectangle([min2,max2],fill=None,outline='blue')\n",
        "img.save(\"/content/drive/My Drive/CSV_Augmentation_2/test9.jpg\")"
      ],
      "execution_count": 0,
      "outputs": []
    },
    {
      "cell_type": "code",
      "metadata": {
        "id": "eBzNePGKpQzl",
        "colab_type": "code",
        "colab": {}
      },
      "source": [
        "from IPython.display import Image\n",
        "Image('test9.jpg')"
      ],
      "execution_count": 0,
      "outputs": []
    },
    {
      "cell_type": "markdown",
      "metadata": {
        "id": "Gq7VitGLpzbe",
        "colab_type": "text"
      },
      "source": [
        "Visualise Mirror and Bright1"
      ]
    },
    {
      "cell_type": "code",
      "metadata": {
        "id": "9LUTu1VepQxI",
        "colab_type": "code",
        "colab": {}
      },
      "source": [
        "import os\n",
        "from glob import glob as glob\n",
        "import pandas as pd\n",
        "from PIL import Image\n",
        "from PIL import ImageOps\n",
        "from PIL import ImageDraw"
      ],
      "execution_count": 0,
      "outputs": []
    },
    {
      "cell_type": "code",
      "metadata": {
        "id": "_UlVkUlVtEHZ",
        "colab_type": "code",
        "colab": {}
      },
      "source": [
        "%cd \"/content/drive/My Drive/CSV_Augmentation_2\""
      ],
      "execution_count": 0,
      "outputs": []
    },
    {
      "cell_type": "code",
      "metadata": {
        "id": "T1T-1T_2tEC7",
        "colab_type": "code",
        "colab": {}
      },
      "source": [
        "img=Image.open('/content/drive/My Drive/CSV_Augmentation_2/k/test/136k.jpg')"
      ],
      "execution_count": 0,
      "outputs": []
    },
    {
      "cell_type": "code",
      "metadata": {
        "id": "kxgb9U6ktEAd",
        "colab_type": "code",
        "colab": {}
      },
      "source": [
        "train = pd.read_csv('data/train_labels11.csv', sep =',')\n",
        "test = pd.read_csv('data/test_labels11.csv', sep =',')"
      ],
      "execution_count": 0,
      "outputs": []
    },
    {
      "cell_type": "code",
      "metadata": {
        "id": "E66qom0-tD-T",
        "colab_type": "code",
        "colab": {}
      },
      "source": [
        "x=test.loc[test['filename']==\"136k.jpg\"]"
      ],
      "execution_count": 0,
      "outputs": []
    },
    {
      "cell_type": "code",
      "metadata": {
        "id": "vwOl7PKGtD75",
        "colab_type": "code",
        "colab": {}
      },
      "source": [
        "print(x)"
      ],
      "execution_count": 0,
      "outputs": []
    },
    {
      "cell_type": "code",
      "metadata": {
        "id": "goz6wm1_tD5X",
        "colab_type": "code",
        "colab": {}
      },
      "source": [
        "min1=new_xmin1,new_ymin1=(x.iloc[0][4],x.iloc[0][5])\n",
        "min2=new_xmin2,new_ymin2=(x.iloc[1][4],x.iloc[1][5])\n",
        "max1=new_xmax1,new_ymax1=(x.iloc[0][6],x.iloc[0][7])\n",
        "max2=new_xmax2,new_ymax2=(x.iloc[1][6],x.iloc[1][7])"
      ],
      "execution_count": 0,
      "outputs": []
    },
    {
      "cell_type": "code",
      "metadata": {
        "id": "8Krj-fhRtD2r",
        "colab_type": "code",
        "colab": {}
      },
      "source": [
        "img1=ImageDraw.Draw(img)\n",
        "img1.rectangle([min1,max1],fill=None,outline='red')\n",
        "img1=img1.rectangle([min2,max2],fill=None,outline='blue')\n",
        "img.save(\"/content/drive/My Drive/CSV_Augmentation_2/test9.jpg\")"
      ],
      "execution_count": 0,
      "outputs": []
    },
    {
      "cell_type": "code",
      "metadata": {
        "id": "5V-W1vkAtTW1",
        "colab_type": "code",
        "colab": {}
      },
      "source": [
        "from IPython.display import Image\n",
        "Image('test9.jpg')"
      ],
      "execution_count": 0,
      "outputs": []
    },
    {
      "cell_type": "markdown",
      "metadata": {
        "id": "fmkveRYKuHmc",
        "colab_type": "text"
      },
      "source": [
        "Visualise Mirror and Bright2"
      ]
    },
    {
      "cell_type": "code",
      "metadata": {
        "id": "bDEOdXhgtZzS",
        "colab_type": "code",
        "colab": {}
      },
      "source": [
        "import os\n",
        "from glob import glob as glob\n",
        "import pandas as pd\n",
        "from PIL import Image\n",
        "from PIL import ImageOps\n",
        "from PIL import ImageDraw"
      ],
      "execution_count": 0,
      "outputs": []
    },
    {
      "cell_type": "code",
      "metadata": {
        "id": "jNsakibRuOTf",
        "colab_type": "code",
        "colab": {}
      },
      "source": [
        "%cd \"/content/drive/My Drive/CSV_Augmentation_2\""
      ],
      "execution_count": 0,
      "outputs": []
    },
    {
      "cell_type": "code",
      "metadata": {
        "id": "eEIKH_apuO4i",
        "colab_type": "code",
        "colab": {}
      },
      "source": [
        "img=Image.open('/content/drive/My Drive/CSV_Augmentation_2/l/test/136l.jpg')"
      ],
      "execution_count": 0,
      "outputs": []
    },
    {
      "cell_type": "code",
      "metadata": {
        "id": "DmzzFO42uO0K",
        "colab_type": "code",
        "colab": {}
      },
      "source": [
        "train = pd.read_csv('data/train_labels12.csv', sep =',')\n",
        "test = pd.read_csv('data/test_labels12.csv', sep =',')"
      ],
      "execution_count": 0,
      "outputs": []
    },
    {
      "cell_type": "code",
      "metadata": {
        "id": "GN6JMGsNuOvm",
        "colab_type": "code",
        "colab": {}
      },
      "source": [
        "x=test.loc[test['filename']==\"136l.jpg\"]"
      ],
      "execution_count": 0,
      "outputs": []
    },
    {
      "cell_type": "code",
      "metadata": {
        "id": "gPjF45wKubqS",
        "colab_type": "code",
        "colab": {}
      },
      "source": [
        "print(x)"
      ],
      "execution_count": 0,
      "outputs": []
    },
    {
      "cell_type": "code",
      "metadata": {
        "id": "zoqCUCMGubn_",
        "colab_type": "code",
        "colab": {}
      },
      "source": [
        "min1=new_xmin1,new_ymin1=(x.iloc[0][4],x.iloc[0][5])\n",
        "min2=new_xmin2,new_ymin2=(x.iloc[1][4],x.iloc[1][5])\n",
        "max1=new_xmax1,new_ymax1=(x.iloc[0][6],x.iloc[0][7])\n",
        "max2=new_xmax2,new_ymax2=(x.iloc[1][6],x.iloc[1][7])"
      ],
      "execution_count": 0,
      "outputs": []
    },
    {
      "cell_type": "code",
      "metadata": {
        "id": "EQR3HyqkublC",
        "colab_type": "code",
        "colab": {}
      },
      "source": [
        "img1=ImageDraw.Draw(img)\n",
        "img1.rectangle([min1,max1],fill=None,outline='red')\n",
        "img1=img1.rectangle([min2,max2],fill=None,outline='blue')\n",
        "img.save(\"/content/drive/My Drive/CSV_Augmentation_2/test10.jpg\")"
      ],
      "execution_count": 0,
      "outputs": []
    },
    {
      "cell_type": "code",
      "metadata": {
        "id": "Z73u6NvYukfj",
        "colab_type": "code",
        "colab": {}
      },
      "source": [
        "from IPython.display import Image\n",
        "Image('test10.jpg')"
      ],
      "execution_count": 0,
      "outputs": []
    },
    {
      "cell_type": "markdown",
      "metadata": {
        "id": "xtrj5Q_xxDc2",
        "colab_type": "text"
      },
      "source": [
        "Visualise Flip Bright 1"
      ]
    },
    {
      "cell_type": "code",
      "metadata": {
        "id": "udRLCj9AupIB",
        "colab_type": "code",
        "colab": {}
      },
      "source": [
        "import os\n",
        "from glob import glob as glob\n",
        "import pandas as pd\n",
        "from PIL import Image\n",
        "from PIL import ImageOps\n",
        "from PIL import ImageDraw"
      ],
      "execution_count": 0,
      "outputs": []
    },
    {
      "cell_type": "code",
      "metadata": {
        "id": "JtWVXI9WxLWx",
        "colab_type": "code",
        "colab": {}
      },
      "source": [
        "%cd \"/content/drive/My Drive/CSV_Augmentation_2\""
      ],
      "execution_count": 0,
      "outputs": []
    },
    {
      "cell_type": "code",
      "metadata": {
        "id": "6z3GXes5xLT4",
        "colab_type": "code",
        "colab": {}
      },
      "source": [
        "img=Image.open('/content/drive/My Drive/CSV_Augmentation_2/m/test/136m.jpg')"
      ],
      "execution_count": 0,
      "outputs": []
    },
    {
      "cell_type": "code",
      "metadata": {
        "id": "Oxmy8JLPxLQ7",
        "colab_type": "code",
        "colab": {}
      },
      "source": [
        "train = pd.read_csv('data/train_labels13.csv', sep =',')\n",
        "test = pd.read_csv('data/test_labels13.csv', sep =',')"
      ],
      "execution_count": 0,
      "outputs": []
    },
    {
      "cell_type": "code",
      "metadata": {
        "id": "GxzEkKPqxLNY",
        "colab_type": "code",
        "colab": {}
      },
      "source": [
        "x=test.loc[test['filename']==\"136m.jpg\"]"
      ],
      "execution_count": 0,
      "outputs": []
    },
    {
      "cell_type": "code",
      "metadata": {
        "id": "4YSCF4uYxXwi",
        "colab_type": "code",
        "colab": {}
      },
      "source": [
        "print(x)"
      ],
      "execution_count": 0,
      "outputs": []
    },
    {
      "cell_type": "code",
      "metadata": {
        "id": "1fe6Z3rVxY0Q",
        "colab_type": "code",
        "colab": {}
      },
      "source": [
        "min1=new_xmin1,new_ymin1=(x.iloc[0][4],x.iloc[0][5])\n",
        "min2=new_xmin2,new_ymin2=(x.iloc[1][4],x.iloc[1][5])\n",
        "max1=new_xmax1,new_ymax1=(x.iloc[0][6],x.iloc[0][7])\n",
        "max2=new_xmax2,new_ymax2=(x.iloc[1][6],x.iloc[1][7])"
      ],
      "execution_count": 0,
      "outputs": []
    },
    {
      "cell_type": "code",
      "metadata": {
        "id": "3ZN3dMH5xc4w",
        "colab_type": "code",
        "colab": {}
      },
      "source": [
        "img1=ImageDraw.Draw(img)\n",
        "img1.rectangle([min1,max1],fill=None,outline='red')\n",
        "img1=img1.rectangle([min2,max2],fill=None,outline='blue')\n",
        "img.save(\"/content/drive/My Drive/CSV_Augmentation_2/test11.jpg\")"
      ],
      "execution_count": 0,
      "outputs": []
    },
    {
      "cell_type": "code",
      "metadata": {
        "id": "-nHMoj4HxfwR",
        "colab_type": "code",
        "colab": {}
      },
      "source": [
        "from IPython.display import Image\n",
        "Image('test11.jpg')"
      ],
      "execution_count": 0,
      "outputs": []
    },
    {
      "cell_type": "markdown",
      "metadata": {
        "id": "TfYQEdm3zHIA",
        "colab_type": "text"
      },
      "source": [
        "Visualise Flip Bright 2"
      ]
    },
    {
      "cell_type": "code",
      "metadata": {
        "id": "yfTjTdejxlzi",
        "colab_type": "code",
        "colab": {}
      },
      "source": [
        "import os\n",
        "from glob import glob as glob\n",
        "import pandas as pd\n",
        "from PIL import Image\n",
        "from PIL import ImageOps\n",
        "from PIL import ImageDraw"
      ],
      "execution_count": 0,
      "outputs": []
    },
    {
      "cell_type": "code",
      "metadata": {
        "id": "hWcOjAP_zMDo",
        "colab_type": "code",
        "colab": {}
      },
      "source": [
        "%cd \"/content/drive/My Drive/CSV_Augmentation_2\""
      ],
      "execution_count": 0,
      "outputs": []
    },
    {
      "cell_type": "code",
      "metadata": {
        "id": "UcKL0gfAzNpO",
        "colab_type": "code",
        "colab": {}
      },
      "source": [
        "img=Image.open('/content/drive/My Drive/CSV_Augmentation_2/n/test/136n.jpg')"
      ],
      "execution_count": 0,
      "outputs": []
    },
    {
      "cell_type": "code",
      "metadata": {
        "id": "NnUvjtEFzQuq",
        "colab_type": "code",
        "colab": {}
      },
      "source": [
        "train = pd.read_csv('data/train_labels14.csv', sep =',')\n",
        "test = pd.read_csv('data/test_labels14.csv', sep =',')"
      ],
      "execution_count": 0,
      "outputs": []
    },
    {
      "cell_type": "code",
      "metadata": {
        "id": "NzF6cDE_zXMz",
        "colab_type": "code",
        "colab": {}
      },
      "source": [
        "x=test.loc[test['filename']==\"136n.jpg\"]"
      ],
      "execution_count": 0,
      "outputs": []
    },
    {
      "cell_type": "code",
      "metadata": {
        "id": "6_wVt4-PzXKg",
        "colab_type": "code",
        "colab": {}
      },
      "source": [
        "print(x)"
      ],
      "execution_count": 0,
      "outputs": []
    },
    {
      "cell_type": "code",
      "metadata": {
        "id": "P_McHPvmzXIO",
        "colab_type": "code",
        "colab": {}
      },
      "source": [
        "min1=new_xmin1,new_ymin1=(x.iloc[0][4],x.iloc[0][5])\n",
        "min2=new_xmin2,new_ymin2=(x.iloc[1][4],x.iloc[1][5])\n",
        "max1=new_xmax1,new_ymax1=(x.iloc[0][6],x.iloc[0][7])\n",
        "max2=new_xmax2,new_ymax2=(x.iloc[1][6],x.iloc[1][7])"
      ],
      "execution_count": 0,
      "outputs": []
    },
    {
      "cell_type": "code",
      "metadata": {
        "id": "hs2bUWUUzXFq",
        "colab_type": "code",
        "colab": {}
      },
      "source": [
        "img1=ImageDraw.Draw(img)\n",
        "img1.rectangle([min1,max1],fill=None,outline='red')\n",
        "img1=img1.rectangle([min2,max2],fill=None,outline='blue')\n",
        "img.save(\"/content/drive/My Drive/CSV_Augmentation_2/test12.jpg\")"
      ],
      "execution_count": 0,
      "outputs": []
    },
    {
      "cell_type": "code",
      "metadata": {
        "id": "hPfGyNfpzXDD",
        "colab_type": "code",
        "colab": {}
      },
      "source": [
        "from IPython.display import Image\n",
        "Image('test12.jpg')"
      ],
      "execution_count": 0,
      "outputs": []
    },
    {
      "cell_type": "markdown",
      "metadata": {
        "id": "w7ddW2bh04H7",
        "colab_type": "text"
      },
      "source": [
        "Visualise rotate and bright 1"
      ]
    },
    {
      "cell_type": "code",
      "metadata": {
        "id": "ySATsqWLzXAn",
        "colab_type": "code",
        "colab": {}
      },
      "source": [
        "import os\n",
        "from glob import glob as glob\n",
        "import pandas as pd\n",
        "from PIL import Image\n",
        "from PIL import ImageOps\n",
        "from PIL import ImageDraw"
      ],
      "execution_count": 0,
      "outputs": []
    },
    {
      "cell_type": "code",
      "metadata": {
        "id": "FzJUOXrM1B6H",
        "colab_type": "code",
        "colab": {}
      },
      "source": [
        "%cd \"/content/drive/My Drive/CSV_Augmentation_2\""
      ],
      "execution_count": 0,
      "outputs": []
    },
    {
      "cell_type": "code",
      "metadata": {
        "id": "eZkyfg0K1EP-",
        "colab_type": "code",
        "colab": {}
      },
      "source": [
        "img=Image.open('/content/drive/My Drive/CSV_Augmentation_2/o/test/136o.jpg')"
      ],
      "execution_count": 0,
      "outputs": []
    },
    {
      "cell_type": "code",
      "metadata": {
        "id": "ZmsEwj3c1JTK",
        "colab_type": "code",
        "colab": {}
      },
      "source": [
        "train = pd.read_csv('data/train_labels15.csv', sep =',')\n",
        "test = pd.read_csv('data/test_labels15.csv', sep =',')"
      ],
      "execution_count": 0,
      "outputs": []
    },
    {
      "cell_type": "code",
      "metadata": {
        "id": "7pcR8fVJ1LOO",
        "colab_type": "code",
        "colab": {}
      },
      "source": [
        "x=test.loc[test['filename']==\"136o.jpg\"]"
      ],
      "execution_count": 0,
      "outputs": []
    },
    {
      "cell_type": "code",
      "metadata": {
        "id": "dqLOUEln1Nou",
        "colab_type": "code",
        "colab": {}
      },
      "source": [
        "print(x)"
      ],
      "execution_count": 0,
      "outputs": []
    },
    {
      "cell_type": "code",
      "metadata": {
        "id": "dlaCNW3n1RIG",
        "colab_type": "code",
        "colab": {}
      },
      "source": [
        "min1=new_xmin1,new_ymin1=(x.iloc[0][4],x.iloc[0][5])\n",
        "min2=new_xmin2,new_ymin2=(x.iloc[1][4],x.iloc[1][5])\n",
        "max1=new_xmax1,new_ymax1=(x.iloc[0][6],x.iloc[0][7])\n",
        "max2=new_xmax2,new_ymax2=(x.iloc[1][6],x.iloc[1][7])"
      ],
      "execution_count": 0,
      "outputs": []
    },
    {
      "cell_type": "code",
      "metadata": {
        "id": "XFXhTK571SsI",
        "colab_type": "code",
        "colab": {}
      },
      "source": [
        "img1=ImageDraw.Draw(img)\n",
        "img1.rectangle([min1,max1],fill=None,outline='red')\n",
        "img1=img1.rectangle([min2,max2],fill=None,outline='blue')\n",
        "img.save(\"/content/drive/My Drive/CSV_Augmentation_2/test13.jpg\")"
      ],
      "execution_count": 0,
      "outputs": []
    },
    {
      "cell_type": "code",
      "metadata": {
        "id": "5pO5-puo1UTm",
        "colab_type": "code",
        "colab": {}
      },
      "source": [
        "from IPython.display import Image\n",
        "Image('test13.jpg')"
      ],
      "execution_count": 0,
      "outputs": []
    },
    {
      "cell_type": "markdown",
      "metadata": {
        "id": "eVqNaIUP3m1O",
        "colab_type": "text"
      },
      "source": [
        "Visualise Rotate and Bright 2"
      ]
    },
    {
      "cell_type": "code",
      "metadata": {
        "id": "GOdo89JD2p3N",
        "colab_type": "code",
        "colab": {}
      },
      "source": [
        "import os\n",
        "from glob import glob as glob\n",
        "import pandas as pd\n",
        "from PIL import Image\n",
        "from PIL import ImageOps\n",
        "from PIL import ImageDraw"
      ],
      "execution_count": 0,
      "outputs": []
    },
    {
      "cell_type": "code",
      "metadata": {
        "id": "_2yosJdC3sx1",
        "colab_type": "code",
        "colab": {}
      },
      "source": [
        "%cd \"/content/drive/My Drive/CSV_Augmentation_2\""
      ],
      "execution_count": 0,
      "outputs": []
    },
    {
      "cell_type": "code",
      "metadata": {
        "id": "gEagDHAp3swe",
        "colab_type": "code",
        "colab": {}
      },
      "source": [
        "img=Image.open('/content/drive/My Drive/CSV_Augmentation_2/p/test/136p.jpg')"
      ],
      "execution_count": 0,
      "outputs": []
    },
    {
      "cell_type": "code",
      "metadata": {
        "id": "o6kvPIqY3std",
        "colab_type": "code",
        "colab": {}
      },
      "source": [
        "train = pd.read_csv('data/train_labels16.csv', sep =',')\n",
        "test = pd.read_csv('data/test_labels16.csv', sep =',')"
      ],
      "execution_count": 0,
      "outputs": []
    },
    {
      "cell_type": "code",
      "metadata": {
        "id": "-s2g1m6y3sp8",
        "colab_type": "code",
        "colab": {}
      },
      "source": [
        "x=test.loc[test['filename']==\"136p.jpg\"]"
      ],
      "execution_count": 0,
      "outputs": []
    },
    {
      "cell_type": "code",
      "metadata": {
        "id": "4jRZ4_a332sk",
        "colab_type": "code",
        "colab": {}
      },
      "source": [
        "print(x)"
      ],
      "execution_count": 0,
      "outputs": []
    },
    {
      "cell_type": "code",
      "metadata": {
        "id": "mwobgxsT32qt",
        "colab_type": "code",
        "colab": {}
      },
      "source": [
        "min1=new_xmin1,new_ymin1=(x.iloc[0][4],x.iloc[0][5])\n",
        "min2=new_xmin2,new_ymin2=(x.iloc[1][4],x.iloc[1][5])\n",
        "max1=new_xmax1,new_ymax1=(x.iloc[0][6],x.iloc[0][7])\n",
        "max2=new_xmax2,new_ymax2=(x.iloc[1][6],x.iloc[1][7])"
      ],
      "execution_count": 0,
      "outputs": []
    },
    {
      "cell_type": "code",
      "metadata": {
        "id": "7Tm2PZW332nc",
        "colab_type": "code",
        "colab": {}
      },
      "source": [
        "img1=ImageDraw.Draw(img)\n",
        "img1.rectangle([min1,max1],fill=None,outline='red')\n",
        "img1=img1.rectangle([min2,max2],fill=None,outline='blue')\n",
        "img.save(\"/content/drive/My Drive/CSV_Augmentation_2/test14.jpg\")"
      ],
      "execution_count": 0,
      "outputs": []
    },
    {
      "cell_type": "code",
      "metadata": {
        "id": "eQ4jcP-L39Zs",
        "colab_type": "code",
        "colab": {}
      },
      "source": [
        "from IPython.display import Image\n",
        "Image('test14.jpg')"
      ],
      "execution_count": 0,
      "outputs": []
    },
    {
      "cell_type": "markdown",
      "metadata": {
        "id": "_gGWNytv4H74",
        "colab_type": "text"
      },
      "source": [
        "q: Mirror and Contrast1"
      ]
    },
    {
      "cell_type": "code",
      "metadata": {
        "id": "Pwq1JwUi4FdD",
        "colab_type": "code",
        "colab": {}
      },
      "source": [
        "import os\n",
        "from glob import glob as glob\n",
        "import pandas as pd\n",
        "from PIL import Image\n",
        "from PIL import ImageOps\n",
        "from PIL import ImageDraw"
      ],
      "execution_count": 0,
      "outputs": []
    },
    {
      "cell_type": "code",
      "metadata": {
        "id": "6fcqxRWl5RIM",
        "colab_type": "code",
        "colab": {}
      },
      "source": [
        "%cd \"/content/drive/My Drive/CSV_Augmentation_2\""
      ],
      "execution_count": 0,
      "outputs": []
    },
    {
      "cell_type": "code",
      "metadata": {
        "id": "2zJMaHMM5TZ9",
        "colab_type": "code",
        "colab": {}
      },
      "source": [
        "img=Image.open('/content/drive/My Drive/CSV_Augmentation_2/q/test/136q.jpg')"
      ],
      "execution_count": 0,
      "outputs": []
    },
    {
      "cell_type": "code",
      "metadata": {
        "id": "guKXIKS05Yci",
        "colab_type": "code",
        "colab": {}
      },
      "source": [
        "train = pd.read_csv('data/train_labels17.csv', sep =',')\n",
        "test = pd.read_csv('data/test_labels17.csv', sep =',')"
      ],
      "execution_count": 0,
      "outputs": []
    },
    {
      "cell_type": "code",
      "metadata": {
        "id": "owTRGqWt5bpW",
        "colab_type": "code",
        "colab": {}
      },
      "source": [
        "x=test.loc[test['filename']==\"136q.jpg\"]"
      ],
      "execution_count": 0,
      "outputs": []
    },
    {
      "cell_type": "code",
      "metadata": {
        "id": "YBAGPxNQ5bnZ",
        "colab_type": "code",
        "colab": {}
      },
      "source": [
        "print(x)"
      ],
      "execution_count": 0,
      "outputs": []
    },
    {
      "cell_type": "code",
      "metadata": {
        "id": "D85sq7mQ5bkT",
        "colab_type": "code",
        "colab": {}
      },
      "source": [
        "min1=new_xmin1,new_ymin1=(x.iloc[0][4],x.iloc[0][5])\n",
        "min2=new_xmin2,new_ymin2=(x.iloc[1][4],x.iloc[1][5])\n",
        "max1=new_xmax1,new_ymax1=(x.iloc[0][6],x.iloc[0][7])\n",
        "max2=new_xmax2,new_ymax2=(x.iloc[1][6],x.iloc[1][7])"
      ],
      "execution_count": 0,
      "outputs": []
    },
    {
      "cell_type": "code",
      "metadata": {
        "id": "8-n9NEd15h3C",
        "colab_type": "code",
        "colab": {}
      },
      "source": [
        "img1=ImageDraw.Draw(img)\n",
        "img1.rectangle([min1,max1],fill=None,outline='red')\n",
        "img1=img1.rectangle([min2,max2],fill=None,outline='blue')\n",
        "img.save(\"/content/drive/My Drive/CSV_Augmentation_2/test15.jpg\")"
      ],
      "execution_count": 0,
      "outputs": []
    },
    {
      "cell_type": "code",
      "metadata": {
        "id": "jq6Fg3ss5kff",
        "colab_type": "code",
        "colab": {}
      },
      "source": [
        "from IPython.display import Image\n",
        "Image('test15.jpg')"
      ],
      "execution_count": 0,
      "outputs": []
    },
    {
      "cell_type": "markdown",
      "metadata": {
        "id": "cvdE0EBZ5x5M",
        "colab_type": "text"
      },
      "source": [
        "Mirror and Contrast 2"
      ]
    },
    {
      "cell_type": "code",
      "metadata": {
        "id": "Oen1WyLB5r07",
        "colab_type": "code",
        "colab": {}
      },
      "source": [
        "import os\n",
        "from glob import glob as glob\n",
        "import pandas as pd\n",
        "from PIL import Image\n",
        "from PIL import ImageOps\n",
        "from PIL import ImageDraw"
      ],
      "execution_count": 0,
      "outputs": []
    },
    {
      "cell_type": "code",
      "metadata": {
        "id": "6rhgk2wT6bzk",
        "colab_type": "code",
        "colab": {}
      },
      "source": [
        "%cd \"/content/drive/My Drive/CSV_Augmentation_2\""
      ],
      "execution_count": 0,
      "outputs": []
    },
    {
      "cell_type": "code",
      "metadata": {
        "id": "Rf7eYwEm6d7C",
        "colab_type": "code",
        "colab": {}
      },
      "source": [
        "img=Image.open('/content/drive/My Drive/CSV_Augmentation_2/r/test/136r.jpg')"
      ],
      "execution_count": 0,
      "outputs": []
    },
    {
      "cell_type": "code",
      "metadata": {
        "id": "IJeuUoUn6dr8",
        "colab_type": "code",
        "colab": {}
      },
      "source": [
        "train = pd.read_csv('data/train_labels18.csv', sep =',')\n",
        "test = pd.read_csv('data/test_labels18.csv', sep =',')"
      ],
      "execution_count": 0,
      "outputs": []
    },
    {
      "cell_type": "code",
      "metadata": {
        "id": "E6uDtKRp6dqf",
        "colab_type": "code",
        "colab": {}
      },
      "source": [
        "x=test.loc[test['filename']==\"136r.jpg\"]"
      ],
      "execution_count": 0,
      "outputs": []
    },
    {
      "cell_type": "code",
      "metadata": {
        "id": "3i3i0fQP6dng",
        "colab_type": "code",
        "colab": {}
      },
      "source": [
        "min1=new_xmin1,new_ymin1=(x.iloc[0][4],x.iloc[0][5])\n",
        "min2=new_xmin2,new_ymin2=(x.iloc[1][4],x.iloc[1][5])\n",
        "max1=new_xmax1,new_ymax1=(x.iloc[0][6],x.iloc[0][7])\n",
        "max2=new_xmax2,new_ymax2=(x.iloc[1][6],x.iloc[1][7])"
      ],
      "execution_count": 0,
      "outputs": []
    },
    {
      "cell_type": "code",
      "metadata": {
        "id": "BoAJL0wg6dli",
        "colab_type": "code",
        "colab": {}
      },
      "source": [
        "img1=ImageDraw.Draw(img)\n",
        "img1.rectangle([min1,max1],fill=None,outline='red')\n",
        "img1=img1.rectangle([min2,max2],fill=None,outline='blue')\n",
        "img.save(\"/content/drive/My Drive/CSV_Augmentation_2/test16.jpg\")"
      ],
      "execution_count": 0,
      "outputs": []
    },
    {
      "cell_type": "code",
      "metadata": {
        "id": "gevKjD6E6diq",
        "colab_type": "code",
        "colab": {}
      },
      "source": [
        "from IPython.display import Image\n",
        "Image('test16.jpg')"
      ],
      "execution_count": 0,
      "outputs": []
    },
    {
      "cell_type": "markdown",
      "metadata": {
        "id": "wiJ3fCMx9tGC",
        "colab_type": "text"
      },
      "source": [
        "Flip and Contrast 1"
      ]
    },
    {
      "cell_type": "code",
      "metadata": {
        "id": "W0EalGHQ9poS",
        "colab_type": "code",
        "colab": {}
      },
      "source": [
        "import os\n",
        "from glob import glob as glob\n",
        "import pandas as pd\n",
        "from PIL import Image\n",
        "from PIL import ImageOps\n",
        "from PIL import ImageDraw"
      ],
      "execution_count": 0,
      "outputs": []
    },
    {
      "cell_type": "code",
      "metadata": {
        "id": "nVlFYPKy6dgD",
        "colab_type": "code",
        "colab": {}
      },
      "source": [
        "%cd \"/content/drive/My Drive/CSV_Augmentation_2\""
      ],
      "execution_count": 0,
      "outputs": []
    },
    {
      "cell_type": "code",
      "metadata": {
        "id": "mBYUYdJt94Lr",
        "colab_type": "code",
        "colab": {}
      },
      "source": [
        "img=Image.open('/content/drive/My Drive/CSV_Augmentation_2/s/test/136s.jpg')"
      ],
      "execution_count": 0,
      "outputs": []
    },
    {
      "cell_type": "code",
      "metadata": {
        "id": "vSrR9I739_qz",
        "colab_type": "code",
        "colab": {}
      },
      "source": [
        "train = pd.read_csv('data/train_labels19.csv', sep =',')\n",
        "test = pd.read_csv('data/test_labels19.csv', sep =',')"
      ],
      "execution_count": 0,
      "outputs": []
    },
    {
      "cell_type": "code",
      "metadata": {
        "id": "k2Zbzdst9_ni",
        "colab_type": "code",
        "colab": {}
      },
      "source": [
        "x=test.loc[test['filename']==\"136s.jpg\"]"
      ],
      "execution_count": 0,
      "outputs": []
    },
    {
      "cell_type": "code",
      "metadata": {
        "id": "gfiCK4FQ9_lh",
        "colab_type": "code",
        "colab": {}
      },
      "source": [
        "print(x)"
      ],
      "execution_count": 0,
      "outputs": []
    },
    {
      "cell_type": "code",
      "metadata": {
        "id": "cw8gbo_z9_jr",
        "colab_type": "code",
        "colab": {}
      },
      "source": [
        "min1=new_xmin1,new_ymin1=(x.iloc[0][4],x.iloc[0][5])\n",
        "min2=new_xmin2,new_ymin2=(x.iloc[1][4],x.iloc[1][5])\n",
        "max1=new_xmax1,new_ymax1=(x.iloc[0][6],x.iloc[0][7])\n",
        "max2=new_xmax2,new_ymax2=(x.iloc[1][6],x.iloc[1][7])"
      ],
      "execution_count": 0,
      "outputs": []
    },
    {
      "cell_type": "code",
      "metadata": {
        "id": "9CHIbOiU9_f5",
        "colab_type": "code",
        "colab": {}
      },
      "source": [
        "img1=ImageDraw.Draw(img)\n",
        "img1.rectangle([min1,max1],fill=None,outline='red')\n",
        "img1=img1.rectangle([min2,max2],fill=None,outline='blue')\n",
        "img.save(\"/content/drive/My Drive/CSV_Augmentation_2/test17.jpg\")"
      ],
      "execution_count": 0,
      "outputs": []
    },
    {
      "cell_type": "code",
      "metadata": {
        "id": "RhLzkGP3-JCV",
        "colab_type": "code",
        "colab": {}
      },
      "source": [
        "from IPython.display import Image\n",
        "Image('test17.jpg')"
      ],
      "execution_count": 0,
      "outputs": []
    },
    {
      "cell_type": "markdown",
      "metadata": {
        "id": "qZwo-0-c--q9",
        "colab_type": "text"
      },
      "source": [
        "Visualise Mirror and Contrast 2"
      ]
    },
    {
      "cell_type": "code",
      "metadata": {
        "id": "mxFdavJT-RwO",
        "colab_type": "code",
        "colab": {}
      },
      "source": [
        "import os\n",
        "from glob import glob as glob\n",
        "import pandas as pd\n",
        "from PIL import Image\n",
        "from PIL import ImageOps\n",
        "from PIL import ImageDraw"
      ],
      "execution_count": 0,
      "outputs": []
    },
    {
      "cell_type": "code",
      "metadata": {
        "id": "uHbnM3pc_CWg",
        "colab_type": "code",
        "colab": {}
      },
      "source": [
        "%cd \"/content/drive/My Drive/CSV_Augmentation_2\""
      ],
      "execution_count": 0,
      "outputs": []
    },
    {
      "cell_type": "code",
      "metadata": {
        "id": "wXroX9UA_D5w",
        "colab_type": "code",
        "colab": {}
      },
      "source": [
        "img=Image.open('/content/drive/My Drive/CSV_Augmentation_2/t/test/136t.jpg')"
      ],
      "execution_count": 0,
      "outputs": []
    },
    {
      "cell_type": "code",
      "metadata": {
        "id": "MoZfbOj1_G-Y",
        "colab_type": "code",
        "colab": {}
      },
      "source": [
        "train = pd.read_csv('data/train_labels20.csv', sep =',')\n",
        "test = pd.read_csv('data/test_labels20.csv', sep =',')"
      ],
      "execution_count": 0,
      "outputs": []
    },
    {
      "cell_type": "code",
      "metadata": {
        "id": "kv4w0Pqq_IvA",
        "colab_type": "code",
        "colab": {}
      },
      "source": [
        "x=test.loc[test['filename']==\"136t.jpg\"]"
      ],
      "execution_count": 0,
      "outputs": []
    },
    {
      "cell_type": "code",
      "metadata": {
        "id": "_jeRw_-r_PFe",
        "colab_type": "code",
        "colab": {}
      },
      "source": [
        "print(x)"
      ],
      "execution_count": 0,
      "outputs": []
    },
    {
      "cell_type": "code",
      "metadata": {
        "id": "7P7GKdPt_SFt",
        "colab_type": "code",
        "colab": {}
      },
      "source": [
        "min1=new_xmin1,new_ymin1=(x.iloc[0][4],x.iloc[0][5])\n",
        "min2=new_xmin2,new_ymin2=(x.iloc[1][4],x.iloc[1][5])\n",
        "max1=new_xmax1,new_ymax1=(x.iloc[0][6],x.iloc[0][7])\n",
        "max2=new_xmax2,new_ymax2=(x.iloc[1][6],x.iloc[1][7])"
      ],
      "execution_count": 0,
      "outputs": []
    },
    {
      "cell_type": "code",
      "metadata": {
        "id": "hD1pPR9n_Skw",
        "colab_type": "code",
        "colab": {}
      },
      "source": [
        "img1=ImageDraw.Draw(img)\n",
        "img1.rectangle([min1,max1],fill=None,outline='red')\n",
        "img1=img1.rectangle([min2,max2],fill=None,outline='blue')\n",
        "img.save(\"/content/drive/My Drive/CSV_Augmentation_2/test18.jpg\")"
      ],
      "execution_count": 0,
      "outputs": []
    },
    {
      "cell_type": "code",
      "metadata": {
        "id": "MIZQsKAj_WWM",
        "colab_type": "code",
        "colab": {}
      },
      "source": [
        "from IPython.display import Image\n",
        "Image('test18.jpg')"
      ],
      "execution_count": 0,
      "outputs": []
    },
    {
      "cell_type": "markdown",
      "metadata": {
        "id": "EHxuzGJzBHar",
        "colab_type": "text"
      },
      "source": [
        "Visualise Rotate and Contrast1 "
      ]
    },
    {
      "cell_type": "code",
      "metadata": {
        "id": "OhAqlquE_bjg",
        "colab_type": "code",
        "colab": {}
      },
      "source": [
        "import os\n",
        "from glob import glob as glob\n",
        "import pandas as pd\n",
        "from PIL import Image\n",
        "from PIL import ImageOps\n",
        "from PIL import ImageDraw"
      ],
      "execution_count": 0,
      "outputs": []
    },
    {
      "cell_type": "code",
      "metadata": {
        "id": "QprYzwQ9BMY5",
        "colab_type": "code",
        "colab": {}
      },
      "source": [
        "%cd \"/content/drive/My Drive/CSV_Augmentation_2\""
      ],
      "execution_count": 0,
      "outputs": []
    },
    {
      "cell_type": "code",
      "metadata": {
        "id": "pjdntY2aBMzT",
        "colab_type": "code",
        "colab": {}
      },
      "source": [
        "img=Image.open('/content/drive/My Drive/CSV_Augmentation_2/u/test/136u.jpg')"
      ],
      "execution_count": 0,
      "outputs": []
    },
    {
      "cell_type": "code",
      "metadata": {
        "id": "A-0NtKROBPsn",
        "colab_type": "code",
        "colab": {}
      },
      "source": [
        "train = pd.read_csv('data/train_labels21.csv', sep =',')\n",
        "test = pd.read_csv('data/test_labels21.csv', sep =',')"
      ],
      "execution_count": 0,
      "outputs": []
    },
    {
      "cell_type": "code",
      "metadata": {
        "id": "75rEO4RFBPrI",
        "colab_type": "code",
        "colab": {}
      },
      "source": [
        "x=test.loc[test['filename']==\"136u.jpg\"]"
      ],
      "execution_count": 0,
      "outputs": []
    },
    {
      "cell_type": "code",
      "metadata": {
        "id": "KpODa_u2BPpD",
        "colab_type": "code",
        "colab": {}
      },
      "source": [
        "print(x)"
      ],
      "execution_count": 0,
      "outputs": []
    },
    {
      "cell_type": "code",
      "metadata": {
        "id": "uC-l6zKBBPnO",
        "colab_type": "code",
        "colab": {}
      },
      "source": [
        "min1=new_xmin1,new_ymin1=(x.iloc[0][4],x.iloc[0][5])\n",
        "min2=new_xmin2,new_ymin2=(x.iloc[1][4],x.iloc[1][5])\n",
        "max1=new_xmax1,new_ymax1=(x.iloc[0][6],x.iloc[0][7])\n",
        "max2=new_xmax2,new_ymax2=(x.iloc[1][6],x.iloc[1][7])"
      ],
      "execution_count": 0,
      "outputs": []
    },
    {
      "cell_type": "code",
      "metadata": {
        "id": "MgQoZAbOBPjn",
        "colab_type": "code",
        "colab": {}
      },
      "source": [
        "img1=ImageDraw.Draw(img)\n",
        "img1.rectangle([min1,max1],fill=None,outline='red')\n",
        "img1=img1.rectangle([min2,max2],fill=None,outline='blue')\n",
        "img.save(\"/content/drive/My Drive/CSV_Augmentation_2/test19.jpg\")"
      ],
      "execution_count": 0,
      "outputs": []
    },
    {
      "cell_type": "code",
      "metadata": {
        "id": "ymv0hJ1QB0-4",
        "colab_type": "code",
        "colab": {}
      },
      "source": [
        "from IPython.display import Image\n",
        "Image('test19.jpg')"
      ],
      "execution_count": 0,
      "outputs": []
    },
    {
      "cell_type": "markdown",
      "metadata": {
        "id": "4uL58cw0B8zy",
        "colab_type": "text"
      },
      "source": [
        "Last fucker: Rotate and Contrast 2"
      ]
    },
    {
      "cell_type": "code",
      "metadata": {
        "id": "FHdUa0BQB7Xv",
        "colab_type": "code",
        "colab": {}
      },
      "source": [
        "import os\n",
        "from glob import glob as glob\n",
        "import pandas as pd\n",
        "from PIL import Image\n",
        "from PIL import ImageOps\n",
        "from PIL import ImageDraw"
      ],
      "execution_count": 0,
      "outputs": []
    },
    {
      "cell_type": "code",
      "metadata": {
        "id": "jnCrxkUDCdUl",
        "colab_type": "code",
        "colab": {}
      },
      "source": [
        "%cd \"/content/drive/My Drive/CSV_Augmentation_2\""
      ],
      "execution_count": 0,
      "outputs": []
    },
    {
      "cell_type": "code",
      "metadata": {
        "id": "aJ6slve3CdSj",
        "colab_type": "code",
        "colab": {}
      },
      "source": [
        "img=Image.open('/content/drive/My Drive/CSV_Augmentation_2/v/test/136v.jpg')"
      ],
      "execution_count": 0,
      "outputs": []
    },
    {
      "cell_type": "code",
      "metadata": {
        "id": "RWAJiU-pCdPm",
        "colab_type": "code",
        "colab": {}
      },
      "source": [
        "train = pd.read_csv('data/train_labels22.csv', sep =',')\n",
        "test = pd.read_csv('data/test_labels22.csv', sep =',')"
      ],
      "execution_count": 0,
      "outputs": []
    },
    {
      "cell_type": "code",
      "metadata": {
        "id": "YD_sK8-jCdNd",
        "colab_type": "code",
        "colab": {}
      },
      "source": [
        "x=test.loc[test['filename']==\"136v.jpg\"]\n",
        "print(x)"
      ],
      "execution_count": 0,
      "outputs": []
    },
    {
      "cell_type": "code",
      "metadata": {
        "id": "nmRw6QnTCdLG",
        "colab_type": "code",
        "colab": {}
      },
      "source": [
        "min1=new_xmin1,new_ymin1=(x.iloc[0][4],x.iloc[0][5])\n",
        "min2=new_xmin2,new_ymin2=(x.iloc[1][4],x.iloc[1][5])\n",
        "max1=new_xmax1,new_ymax1=(x.iloc[0][6],x.iloc[0][7])\n",
        "max2=new_xmax2,new_ymax2=(x.iloc[1][6],x.iloc[1][7])"
      ],
      "execution_count": 0,
      "outputs": []
    },
    {
      "cell_type": "code",
      "metadata": {
        "id": "lkY2E2xqCdIq",
        "colab_type": "code",
        "colab": {}
      },
      "source": [
        "img1=ImageDraw.Draw(img)\n",
        "img1.rectangle([min1,max1],fill=None,outline='red')\n",
        "img1=img1.rectangle([min2,max2],fill=None,outline='blue')\n",
        "img.save(\"/content/drive/My Drive/CSV_Augmentation_2/test20.jpg\")"
      ],
      "execution_count": 0,
      "outputs": []
    },
    {
      "cell_type": "code",
      "metadata": {
        "id": "9QTtpzv3Cw9F",
        "colab_type": "code",
        "colab": {}
      },
      "source": [
        "from IPython.display import Image\n",
        "Image('test20.jpg')"
      ],
      "execution_count": 0,
      "outputs": []
    },
    {
      "cell_type": "code",
      "metadata": {
        "id": "_ojrVmL5DCHq",
        "colab_type": "code",
        "colab": {}
      },
      "source": [
        ""
      ],
      "execution_count": 0,
      "outputs": []
    }
  ]
}