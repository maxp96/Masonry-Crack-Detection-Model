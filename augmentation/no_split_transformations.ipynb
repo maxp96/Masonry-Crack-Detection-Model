{
  "nbformat": 4,
  "nbformat_minor": 0,
  "metadata": {
    "colab": {
      "name": "no_split_transformations",
      "provenance": [],
      "collapsed_sections": []
    },
    "kernelspec": {
      "name": "python3",
      "display_name": "Python 3"
    }
  },
  "cells": [
    {
      "cell_type": "code",
      "metadata": {
        "id": "hIgcoxP66eCK",
        "colab_type": "code",
        "colab": {}
      },
      "source": [
        "import os\n",
        "from glob import glob as glob\n",
        "import pandas as pd\n",
        "import PIL\n",
        "from PIL import Image\n",
        "from PIL import ImageOps"
      ],
      "execution_count": 0,
      "outputs": []
    },
    {
      "cell_type": "code",
      "metadata": {
        "id": "WGfjJKWX90jc",
        "colab_type": "code",
        "outputId": "3faee731-7a8c-4f1c-e087-abce1d90dad7",
        "colab": {
          "base_uri": "https://localhost:8080/",
          "height": 34
        }
      },
      "source": [
        "%cd /content/drive/My Drive/15k_CSV_Augmentation"
      ],
      "execution_count": 0,
      "outputs": [
        {
          "output_type": "stream",
          "text": [
            "/content/drive/My Drive/15k_CSV_Augmentation\n"
          ],
          "name": "stdout"
        }
      ]
    },
    {
      "cell_type": "code",
      "metadata": {
        "id": "LeU8PKoq64zj",
        "colab_type": "code",
        "colab": {}
      },
      "source": [
        "#!python xml_to_csv.py "
      ],
      "execution_count": 0,
      "outputs": []
    },
    {
      "cell_type": "code",
      "metadata": {
        "id": "9OpLNy1I-G-M",
        "colab_type": "code",
        "colab": {}
      },
      "source": [
        "full = pd.read_csv('data/full_labels.csv', sep =',')"
      ],
      "execution_count": 0,
      "outputs": []
    },
    {
      "cell_type": "code",
      "metadata": {
        "id": "IeXMfLfM_j4R",
        "colab_type": "code",
        "outputId": "166e7c72-af37-4216-ea9b-d039f02f656c",
        "colab": {
          "base_uri": "https://localhost:8080/",
          "height": 218
        }
      },
      "source": [
        "# test.head()\n",
        "a1 = full.filename\n",
        "a1\n",
        "print(a1)"
      ],
      "execution_count": 0,
      "outputs": [
        {
          "output_type": "stream",
          "text": [
            "0      217.jpg\n",
            "1      218.jpg\n",
            "2      219.jpg\n",
            "3      220.jpg\n",
            "4      221.jpg\n",
            "        ...   \n",
            "584    696.jpg\n",
            "585    697.jpg\n",
            "586    698.jpg\n",
            "587    699.jpg\n",
            "588    700.jpg\n",
            "Name: filename, Length: 589, dtype: object\n"
          ],
          "name": "stdout"
        }
      ]
    },
    {
      "cell_type": "code",
      "metadata": {
        "id": "H8XwpBqDJunF",
        "colab_type": "code",
        "outputId": "9f999b20-474e-4c58-f380-a69650f639a6",
        "colab": {
          "base_uri": "https://localhost:8080/",
          "height": 218
        }
      },
      "source": [
        "a2=full.filename\n",
        "a2"
      ],
      "execution_count": 0,
      "outputs": [
        {
          "output_type": "execute_result",
          "data": {
            "text/plain": [
              "0      217.jpg\n",
              "1      218.jpg\n",
              "2      219.jpg\n",
              "3      220.jpg\n",
              "4      221.jpg\n",
              "        ...   \n",
              "584    696.jpg\n",
              "585    697.jpg\n",
              "586    698.jpg\n",
              "587    699.jpg\n",
              "588    700.jpg\n",
              "Name: filename, Length: 589, dtype: object"
            ]
          },
          "metadata": {
            "tags": []
          },
          "execution_count": 6
        }
      ]
    },
    {
      "cell_type": "markdown",
      "metadata": {
        "id": "bPZ2VoJIAXQz",
        "colab_type": "text"
      },
      "source": [
        "b: Mirror (Horizontal or left to right)"
      ]
    },
    {
      "cell_type": "code",
      "metadata": {
        "id": "7KYS0jDX_mmD",
        "colab_type": "code",
        "colab": {}
      },
      "source": [
        "#Mirror Images and Labels\n",
        "def mirror(z,fld):\n",
        "  new_df=z\n",
        "  for index, row in z.iterrows():\n",
        "    df2=row\n",
        "    #mirror image\n",
        "    im = Image.open('images/'+fld+'/'+df2['filename'])\n",
        "    im = ImageOps.mirror(im)\n",
        "    \n",
        "    im.save('b/'+fld+'/'+df2['filename'][:-4]+'b'+'.jpg')\n",
        "\n",
        "    #mirror label\n",
        "    df2['filename'] = df2['filename'][:-4]+'b'+'.jpg'\n",
        "    imax = df2['xmax']\n",
        "    imin = df2['xmin']\n",
        "    df2['xmax'] = 1020 - imin\n",
        "    df2['xmin'] = 1020 - imax\n",
        "    new_df = new_df.append(df2, ignore_index = True)\n",
        "\n",
        "  export_csv = new_df.to_csv (r'/content/drive/My Drive/15k_CSV_Augmentation/data/{}_labels2.csv'.format(fld), index = None, header=True)"
      ],
      "execution_count": 0,
      "outputs": []
    },
    {
      "cell_type": "code",
      "metadata": {
        "id": "-wfU6JXTHwkZ",
        "colab_type": "code",
        "colab": {}
      },
      "source": [
        "new_test = mirror(full,'full')"
      ],
      "execution_count": 0,
      "outputs": []
    },
    {
      "cell_type": "markdown",
      "metadata": {
        "id": "VJ4HvbxRR20p",
        "colab_type": "text"
      },
      "source": [
        "c: Flip (Vetical or Top to Bottom)"
      ]
    },
    {
      "cell_type": "code",
      "metadata": {
        "id": "WjCYrGBZR0tP",
        "colab_type": "code",
        "colab": {}
      },
      "source": [
        "#Flip Images and Labels\n",
        "def flip(z,fld):\n",
        "  new_df=z\n",
        "  for index, row in z.iterrows():\n",
        "    df2=row\n",
        "    #flip image\n",
        "    im = Image.open('images/'+fld+'/'+df2['filename'])\n",
        "    im = ImageOps.flip(im)\n",
        "    \n",
        "    im.save('c/'+fld+'/'+df2['filename'][:-4]+'c'+'.jpg')\n",
        "\n",
        "    #flip label\n",
        "    df2['filename'] = df2['filename'][:-4]+'c'+'.jpg'\n",
        "    imax = df2['ymax']\n",
        "    imin = df2['ymin']\n",
        "    df2['ymax'] = 680 - imin\n",
        "    df2['ymin'] = 680 - imax\n",
        "    new_df = new_df.append(df2, ignore_index = True)\n",
        "\n",
        "  export_csv = new_df.to_csv (r'/content/drive/My Drive/15k_CSV_Augmentation/data/{}_labels3.csv'.format(fld), index = None, header=True)"
      ],
      "execution_count": 0,
      "outputs": []
    },
    {
      "cell_type": "code",
      "metadata": {
        "id": "iBsgnolkTTYQ",
        "colab_type": "code",
        "colab": {}
      },
      "source": [
        "new_test2=flip(full,'full')"
      ],
      "execution_count": 0,
      "outputs": []
    },
    {
      "cell_type": "markdown",
      "metadata": {
        "id": "2bOJq--H6-mN",
        "colab_type": "text"
      },
      "source": [
        "d: Rotate 180 "
      ]
    },
    {
      "cell_type": "code",
      "metadata": {
        "id": "ZGwI6OG7T_YW",
        "colab_type": "code",
        "colab": {}
      },
      "source": [
        "#Rotate Images and Labels\n",
        "def rotate(z,fld):\n",
        "  new_df=z\n",
        "  for index,row in z.iterrows():\n",
        "    df2=row\n",
        "    #rotate image is same as 1 flip and 1 mirror\n",
        "    im = Image.open('images/'+fld+'/'+df2['filename'])\n",
        "    im = im.rotate(180)\n",
        "    \n",
        "    im.save('d/'+fld+'/'+df2['filename'][:-4]+'d'+'.jpg')\n",
        "\n",
        "    #rotate label\n",
        "    df2['filename']=df2['filename'][:-4]+'d'+'.jpg'\n",
        "    ixmax=df2['xmax']\n",
        "    ixmin=df2['xmin']\n",
        "\n",
        "    iymax=df2['ymax']\n",
        "    iymin=df2['ymin']\n",
        "\n",
        "    df2['xmax'] = 1020 - ixmin\n",
        "    df2['xmin'] = 1020 - ixmax\n",
        "\n",
        "    df2['ymax'] = 680 - iymin\n",
        "    df2['ymin'] = 680 - iymax\n",
        "    new_df = new_df.append(df2, ignore_index = True)\n",
        "  export_csv = new_df.to_csv (r'/content/drive/My Drive/15k_CSV_Augmentation/data/{}_labels4.csv'.format(fld), index = None, header=True)"
      ],
      "execution_count": 0,
      "outputs": []
    },
    {
      "cell_type": "code",
      "metadata": {
        "id": "QPLrB79W-cFA",
        "colab_type": "code",
        "colab": {}
      },
      "source": [
        "new_test3=rotate(full,'full')"
      ],
      "execution_count": 0,
      "outputs": []
    },
    {
      "cell_type": "markdown",
      "metadata": {
        "id": "gSNiMhacXfo1",
        "colab_type": "text"
      },
      "source": [
        "e: Brightness 1"
      ]
    },
    {
      "cell_type": "code",
      "metadata": {
        "id": "RlxxIEk1X6oG",
        "colab_type": "code",
        "colab": {}
      },
      "source": [
        "from PIL import ImageEnhance"
      ],
      "execution_count": 0,
      "outputs": []
    },
    {
      "cell_type": "code",
      "metadata": {
        "id": "1--tdJw2XvJK",
        "colab_type": "code",
        "colab": {}
      },
      "source": [
        "def bright1(z,fld):\n",
        "  new_df=z\n",
        "  for index,row in z.iterrows():\n",
        "    df2=row\n",
        "    #adjust brightness to 0.8\n",
        "    im = Image.open('images/'+fld+'/'+df2['filename'])\n",
        "    im=ImageEnhance.Brightness(im)\n",
        "    im=im.enhance(0.8)\n",
        "\n",
        "    im.save('e/'+fld+'/'+df2['filename'][:-4]+'e'+'.jpg')\n",
        "\n",
        "    #Label does not require altering just saving\n",
        "    df2['filename']=df2['filename'][:-4]+'e'+'.jpg'\n",
        "    ixmax=df2['xmax']\n",
        "    ixmin=df2['xmin']\n",
        "\n",
        "    iymax=df2['ymax']\n",
        "    iymin=df2['ymin']\n",
        "\n",
        "    df2['xmax'] = ixmax\n",
        "    df2['xmin'] = ixmin\n",
        "\n",
        "    df2['ymax'] = iymax\n",
        "    df2['ymin'] = iymin\n",
        "    new_df = new_df.append(df2, ignore_index = True)\n",
        "  export_csv = new_df.to_csv (r'/content/drive/My Drive/15k_CSV_Augmentation/data/{}_labels5.csv'.format(fld), index = None, header=True)\n"
      ],
      "execution_count": 0,
      "outputs": []
    },
    {
      "cell_type": "code",
      "metadata": {
        "id": "p7YnG6f2YYPZ",
        "colab_type": "code",
        "colab": {}
      },
      "source": [
        "new_test4=bright1(full,'full')"
      ],
      "execution_count": 0,
      "outputs": []
    },
    {
      "cell_type": "markdown",
      "metadata": {
        "id": "Nc1RfRY7dYa9",
        "colab_type": "text"
      },
      "source": [
        "f: Brightness 2"
      ]
    },
    {
      "cell_type": "code",
      "metadata": {
        "id": "SEaUYyR4daJz",
        "colab_type": "code",
        "colab": {}
      },
      "source": [
        "from PIL import ImageEnhance"
      ],
      "execution_count": 0,
      "outputs": []
    },
    {
      "cell_type": "code",
      "metadata": {
        "id": "G4y6-NlldaDD",
        "colab_type": "code",
        "colab": {}
      },
      "source": [
        "def bright2(z,fld):\n",
        "  new_df=z\n",
        "  for index,row in z.iterrows():\n",
        "    df2=row\n",
        "    #adjust brightness to 1.2\n",
        "    im = Image.open('images/'+fld+'/'+df2['filename'])\n",
        "    im=ImageEnhance.Brightness(im)\n",
        "    im=im.enhance(1.2)\n",
        "\n",
        "    im.save('f/'+fld+'/'+df2['filename'][:-4]+'f'+'.jpg')\n",
        "\n",
        "    #Label does not require altering just saving\n",
        "    df2['filename']=df2['filename'][:-4]+'f'+'.jpg'\n",
        "    ixmax=df2['xmax']\n",
        "    ixmin=df2['xmin']\n",
        "\n",
        "    iymax=df2['ymax']\n",
        "    iymin=df2['ymin']\n",
        "\n",
        "    df2['xmax'] = ixmax\n",
        "    df2['xmin'] = ixmin\n",
        "\n",
        "    df2['ymax'] = iymax\n",
        "    df2['ymin'] = iymin\n",
        "    new_df = new_df.append(df2, ignore_index = True)\n",
        "  export_csv = new_df.to_csv (r'/content/drive/My Drive/15k_CSV_Augmentation/data/{}_labels6.csv'.format(fld), index = None, header=True)\n"
      ],
      "execution_count": 0,
      "outputs": []
    },
    {
      "cell_type": "code",
      "metadata": {
        "id": "naywoC07dZ8T",
        "colab_type": "code",
        "colab": {}
      },
      "source": [
        "new_test5=bright2(full,'full')"
      ],
      "execution_count": 0,
      "outputs": []
    },
    {
      "cell_type": "markdown",
      "metadata": {
        "id": "PoNDcL8Zf9ZT",
        "colab_type": "text"
      },
      "source": [
        "g: Contrast 1"
      ]
    },
    {
      "cell_type": "code",
      "metadata": {
        "id": "ah2lhHNudZjr",
        "colab_type": "code",
        "colab": {}
      },
      "source": [
        "from PIL import ImageEnhance"
      ],
      "execution_count": 0,
      "outputs": []
    },
    {
      "cell_type": "code",
      "metadata": {
        "id": "J89Te-7lh5Bw",
        "colab_type": "code",
        "colab": {}
      },
      "source": [
        "def contrast1(z,fld):\n",
        "  new_df=z\n",
        "  for index,row in z.iterrows():\n",
        "    df2=row\n",
        "    #adjust contrast to 0.75\n",
        "    im = Image.open('images/'+fld+'/'+df2['filename'])\n",
        "    im=ImageEnhance.Contrast(im)\n",
        "    im=im.enhance(0.75)\n",
        "\n",
        "    im.save('g/'+fld+'/'+df2['filename'][:-4]+'g'+'.jpg')\n",
        "\n",
        "    #Label does not require altering just saving\n",
        "    df2['filename']=df2['filename'][:-4]+'g'+'.jpg'\n",
        "    ixmax=df2['xmax']\n",
        "    ixmin=df2['xmin']\n",
        "\n",
        "    iymax=df2['ymax']\n",
        "    iymin=df2['ymin']\n",
        "\n",
        "    df2['xmax'] = ixmax\n",
        "    df2['xmin'] = ixmin\n",
        "\n",
        "    df2['ymax'] = iymax\n",
        "    df2['ymin'] = iymin\n",
        "    new_df = new_df.append(df2, ignore_index = True)\n",
        "  export_csv = new_df.to_csv (r'/content/drive/My Drive/15k_CSV_Augmentation/data/{}_labels7.csv'.format(fld), index = None, header=True)\n"
      ],
      "execution_count": 0,
      "outputs": []
    },
    {
      "cell_type": "code",
      "metadata": {
        "id": "D0oDFbdth48Q",
        "colab_type": "code",
        "colab": {}
      },
      "source": [
        "new_test6=contrast1(full,'full')"
      ],
      "execution_count": 0,
      "outputs": []
    },
    {
      "cell_type": "markdown",
      "metadata": {
        "id": "3x9MQJY7jluA",
        "colab_type": "text"
      },
      "source": [
        "h: Contrast 2"
      ]
    },
    {
      "cell_type": "code",
      "metadata": {
        "id": "y3M3tAdZjnVu",
        "colab_type": "code",
        "colab": {}
      },
      "source": [
        "from PIL import ImageEnhance"
      ],
      "execution_count": 0,
      "outputs": []
    },
    {
      "cell_type": "code",
      "metadata": {
        "id": "KLizPCcbjnTG",
        "colab_type": "code",
        "colab": {}
      },
      "source": [
        "def contrast2(z,fld):\n",
        "  new_df=z\n",
        "  for index,row in z.iterrows():\n",
        "    df2=row\n",
        "    #adjust contrast to 1.25\n",
        "    im = Image.open('images/'+fld+'/'+df2['filename'])\n",
        "    im=ImageEnhance.Contrast(im)\n",
        "    im=im.enhance(1.25)\n",
        "\n",
        "    im.save('h/'+fld+'/'+df2['filename'][:-4]+'h'+'.jpg')\n",
        "\n",
        "    #Label does not require altering just saving\n",
        "    df2['filename']=df2['filename'][:-4]+'h'+'.jpg'\n",
        "    ixmax=df2['xmax']\n",
        "    ixmin=df2['xmin']\n",
        "\n",
        "    iymax=df2['ymax']\n",
        "    iymin=df2['ymin']\n",
        "\n",
        "    df2['xmax'] = ixmax\n",
        "    df2['xmin'] = ixmin\n",
        "\n",
        "    df2['ymax'] = iymax\n",
        "    df2['ymin'] = iymin\n",
        "    new_df = new_df.append(df2, ignore_index = True)\n",
        "  export_csv = new_df.to_csv (r'/content/drive/My Drive/15k_CSV_Augmentation/data/{}_labels8.csv'.format(fld), index = None, header=True)\n"
      ],
      "execution_count": 0,
      "outputs": []
    },
    {
      "cell_type": "code",
      "metadata": {
        "id": "daUQGOiDjnQn",
        "colab_type": "code",
        "colab": {}
      },
      "source": [
        "new_test7=contrast2(full,'full')"
      ],
      "execution_count": 0,
      "outputs": []
    },
    {
      "cell_type": "markdown",
      "metadata": {
        "id": "IhjTTzHwkY2p",
        "colab_type": "text"
      },
      "source": [
        "I: Gauss 1"
      ]
    },
    {
      "cell_type": "code",
      "metadata": {
        "id": "tfwBvRQojnIu",
        "colab_type": "code",
        "colab": {}
      },
      "source": [
        "from PIL import ImageFilter"
      ],
      "execution_count": 0,
      "outputs": []
    },
    {
      "cell_type": "code",
      "metadata": {
        "id": "A0Wm4iEtjnGV",
        "colab_type": "code",
        "colab": {}
      },
      "source": [
        "def gauss1(z,fld):\n",
        "  new_df=z\n",
        "  for index,row in z.iterrows():\n",
        "    df2=row\n",
        "    #adjust gauss radius to 0.9\n",
        "    im = Image.open('images/'+fld+'/'+df2['filename'])\n",
        "    im=im.filter(ImageFilter.GaussianBlur(radius=0.9))\n",
        "\n",
        "    im.save('i/'+fld+'/'+df2['filename'][:-4]+'i'+'.jpg')\n",
        "\n",
        "    #Label does not require altering just saving\n",
        "    df2['filename']=df2['filename'][:-4]+'i'+'.jpg'\n",
        "    ixmax=df2['xmax']\n",
        "    ixmin=df2['xmin']\n",
        "\n",
        "    iymax=df2['ymax']\n",
        "    iymin=df2['ymin']\n",
        "\n",
        "    df2['xmax'] = ixmax\n",
        "    df2['xmin'] = ixmin\n",
        "\n",
        "    df2['ymax'] = iymax\n",
        "    df2['ymin'] = iymin\n",
        "    new_df = new_df.append(df2, ignore_index = True)\n",
        "  export_csv = new_df.to_csv (r'/content/drive/My Drive/15k_CSV_Augmentation/data/{}_labels9.csv'.format(fld), index = None, header=True)\n"
      ],
      "execution_count": 0,
      "outputs": []
    },
    {
      "cell_type": "code",
      "metadata": {
        "id": "euCwl2jojnD6",
        "colab_type": "code",
        "colab": {}
      },
      "source": [
        "new_test8=gauss1(full,'full')"
      ],
      "execution_count": 0,
      "outputs": []
    },
    {
      "cell_type": "markdown",
      "metadata": {
        "id": "OvOuR-1SoFtg",
        "colab_type": "text"
      },
      "source": [
        "j: Gauss 2"
      ]
    },
    {
      "cell_type": "code",
      "metadata": {
        "id": "CPfrJCiijm8O",
        "colab_type": "code",
        "colab": {}
      },
      "source": [
        "from PIL import ImageFilter"
      ],
      "execution_count": 0,
      "outputs": []
    },
    {
      "cell_type": "code",
      "metadata": {
        "id": "qG4ozBgAjm5W",
        "colab_type": "code",
        "colab": {}
      },
      "source": [
        "def gauss2(z,fld):\n",
        "  new_df=z\n",
        "  for index,row in z.iterrows():\n",
        "    df2=row\n",
        "    #adjust gauss radius to 0.6\n",
        "    im = Image.open('images/'+fld+'/'+df2['filename'])\n",
        "    im=im.filter(ImageFilter.GaussianBlur(radius=0.6))\n",
        "\n",
        "    im.save('j/'+fld+'/'+df2['filename'][:-4]+'j'+'.jpg')\n",
        "\n",
        "    #Label does not require altering just saving\n",
        "    df2['filename']=df2['filename'][:-4]+'j'+'.jpg'\n",
        "    ixmax=df2['xmax']\n",
        "    ixmin=df2['xmin']\n",
        "\n",
        "    iymax=df2['ymax']\n",
        "    iymin=df2['ymin']\n",
        "\n",
        "    df2['xmax'] = ixmax\n",
        "    df2['xmin'] = ixmin\n",
        "\n",
        "    df2['ymax'] = iymax\n",
        "    df2['ymin'] = iymin\n",
        "    new_df = new_df.append(df2, ignore_index = True)\n",
        "  export_csv = new_df.to_csv (r'/content/drive/My Drive/15k_CSV_Augmentation/data/{}_labels10.csv'.format(fld), index = None, header=True)\n"
      ],
      "execution_count": 0,
      "outputs": []
    },
    {
      "cell_type": "code",
      "metadata": {
        "id": "VAtrHYDxoq2l",
        "colab_type": "code",
        "colab": {}
      },
      "source": [
        "new_test9=gauss2(full,'full')"
      ],
      "execution_count": 0,
      "outputs": []
    },
    {
      "cell_type": "markdown",
      "metadata": {
        "id": "8SoCsqzWp0Iv",
        "colab_type": "text"
      },
      "source": [
        "k: Mirror and Bright1"
      ]
    },
    {
      "cell_type": "code",
      "metadata": {
        "id": "gRXpgu0kp7mk",
        "colab_type": "code",
        "colab": {}
      },
      "source": [
        "from PIL import ImageEnhance"
      ],
      "execution_count": 0,
      "outputs": []
    },
    {
      "cell_type": "code",
      "metadata": {
        "id": "tQPwrA9hp7kE",
        "colab_type": "code",
        "colab": {}
      },
      "source": [
        "#Mirror and Bright1 Images and Labels\n",
        "def mirrorbright1(z,fld):\n",
        "  new_df=z\n",
        "  for index, row in z.iterrows():\n",
        "    df2=row\n",
        "    #mirror and bright image\n",
        "    im = Image.open('images/'+fld+'/'+df2['filename'])\n",
        "    im = ImageOps.mirror(im)\n",
        "    im=ImageEnhance.Brightness(im)\n",
        "    im=im.enhance(0.8)\n",
        "    \n",
        "    im.save('k/'+fld+'/'+df2['filename'][:-4]+'k'+'.jpg')\n",
        "\n",
        "    #mirror label\n",
        "    df2['filename'] = df2['filename'][:-4]+'k'+'.jpg'\n",
        "    imax = df2['xmax']\n",
        "    imin = df2['xmin']\n",
        "    df2['xmax'] = 1020 - imin\n",
        "    df2['xmin'] = 1020 - imax\n",
        "    new_df = new_df.append(df2, ignore_index = True)\n",
        "\n",
        "  export_csv = new_df.to_csv (r'/content/drive/My Drive/15k_CSV_Augmentation/data/{}_labels11.csv'.format(fld), index = None, header=True)"
      ],
      "execution_count": 0,
      "outputs": []
    },
    {
      "cell_type": "code",
      "metadata": {
        "id": "GFxSWlN_p7hU",
        "colab_type": "code",
        "colab": {}
      },
      "source": [
        "new_test10=mirrorbright1(full,'full')"
      ],
      "execution_count": 0,
      "outputs": []
    },
    {
      "cell_type": "markdown",
      "metadata": {
        "id": "dMT6-D6BtbpU",
        "colab_type": "text"
      },
      "source": [
        "l: Mirror and Bright 2"
      ]
    },
    {
      "cell_type": "code",
      "metadata": {
        "id": "sz1TQ7_dtdN1",
        "colab_type": "code",
        "colab": {}
      },
      "source": [
        "from PIL import ImageEnhance"
      ],
      "execution_count": 0,
      "outputs": []
    },
    {
      "cell_type": "code",
      "metadata": {
        "id": "h9XtjBpktdL8",
        "colab_type": "code",
        "colab": {}
      },
      "source": [
        "#Mirror and Bright1 Images and Labels\n",
        "def mirrorbright2(z,fld):\n",
        "  new_df=z\n",
        "  for index, row in z.iterrows():\n",
        "    df2=row\n",
        "    #mirror and bright image\n",
        "    im = Image.open('images/'+fld+'/'+df2['filename'])\n",
        "    im = ImageOps.mirror(im)\n",
        "    im=ImageEnhance.Brightness(im)\n",
        "    im=im.enhance(1.2)\n",
        "    \n",
        "    im.save('l/'+fld+'/'+df2['filename'][:-4]+'l'+'.jpg')\n",
        "\n",
        "    #mirror label\n",
        "    df2['filename'] = df2['filename'][:-4]+'l'+'.jpg'\n",
        "    imax = df2['xmax']\n",
        "    imin = df2['xmin']\n",
        "    df2['xmax'] = 1020 - imin\n",
        "    df2['xmin'] = 1020 - imax\n",
        "    new_df = new_df.append(df2, ignore_index = True)\n",
        "\n",
        "  export_csv = new_df.to_csv (r'/content/drive/My Drive/15k_CSV_Augmentation/data/{}_labels12.csv'.format(fld), index = None, header=True)"
      ],
      "execution_count": 0,
      "outputs": []
    },
    {
      "cell_type": "code",
      "metadata": {
        "id": "ilL-pi3qtdJ0",
        "colab_type": "code",
        "colab": {}
      },
      "source": [
        "new_test10=mirrorbright2(full,'full')"
      ],
      "execution_count": 0,
      "outputs": []
    },
    {
      "cell_type": "markdown",
      "metadata": {
        "id": "aa5lb4vxv9VJ",
        "colab_type": "text"
      },
      "source": [
        "m: Flip and Bright 1"
      ]
    },
    {
      "cell_type": "code",
      "metadata": {
        "id": "WJyFulBup7cX",
        "colab_type": "code",
        "colab": {}
      },
      "source": [
        "from PIL import ImageEnhance"
      ],
      "execution_count": 0,
      "outputs": []
    },
    {
      "cell_type": "code",
      "metadata": {
        "id": "TbbEnEcltceB",
        "colab_type": "code",
        "colab": {}
      },
      "source": [
        "#Flip and bright Images and Labels\n",
        "def flipbright1(z,fld):\n",
        "  new_df=z\n",
        "  for index, row in z.iterrows():\n",
        "    df2=row\n",
        "    #flip and bright image\n",
        "    im = Image.open('images/'+fld+'/'+df2['filename'])\n",
        "    im = ImageOps.flip(im)\n",
        "    im=ImageEnhance.Brightness(im)\n",
        "    im=im.enhance(0.8)\n",
        "    \n",
        "    im.save('m/'+fld+'/'+df2['filename'][:-4]+'m'+'.jpg')\n",
        "\n",
        "    #flip label\n",
        "    df2['filename'] = df2['filename'][:-4]+'m'+'.jpg'\n",
        "    imax = df2['ymax']\n",
        "    imin = df2['ymin']\n",
        "    df2['ymax'] = 680 - imin\n",
        "    df2['ymin'] = 680 - imax\n",
        "    new_df = new_df.append(df2, ignore_index = True)\n",
        "\n",
        "  export_csv = new_df.to_csv (r'/content/drive/My Drive/15k_CSV_Augmentation/data/{}_labels13.csv'.format(fld), index = None, header=True)"
      ],
      "execution_count": 0,
      "outputs": []
    },
    {
      "cell_type": "code",
      "metadata": {
        "id": "dCYxrj1dp7Zz",
        "colab_type": "code",
        "colab": {}
      },
      "source": [
        "new_test11=flipbright1(full,'full')"
      ],
      "execution_count": 0,
      "outputs": []
    },
    {
      "cell_type": "markdown",
      "metadata": {
        "id": "2gbkzB5exogM",
        "colab_type": "text"
      },
      "source": [
        "n: Flip and Bright 2"
      ]
    },
    {
      "cell_type": "code",
      "metadata": {
        "id": "RJLsEVMnxqtQ",
        "colab_type": "code",
        "colab": {}
      },
      "source": [
        "from PIL import ImageEnhance"
      ],
      "execution_count": 0,
      "outputs": []
    },
    {
      "cell_type": "code",
      "metadata": {
        "id": "SIyojOTWxsS6",
        "colab_type": "code",
        "colab": {}
      },
      "source": [
        "#Flip and bright Images and Labels\n",
        "def flipbright2(z,fld):\n",
        "  new_df=z\n",
        "  for index, row in z.iterrows():\n",
        "    df2=row\n",
        "    #flip and bright image\n",
        "    im = Image.open('images/'+fld+'/'+df2['filename'])\n",
        "    im = ImageOps.flip(im)\n",
        "    im=ImageEnhance.Brightness(im)\n",
        "    im=im.enhance(1.2)\n",
        "    \n",
        "    im.save('n/'+fld+'/'+df2['filename'][:-4]+'n'+'.jpg')\n",
        "\n",
        "    #flip label\n",
        "    df2['filename'] = df2['filename'][:-4]+'n'+'.jpg'\n",
        "    imax = df2['ymax']\n",
        "    imin = df2['ymin']\n",
        "    df2['ymax'] = 680 - imin\n",
        "    df2['ymin'] = 680 - imax\n",
        "    new_df = new_df.append(df2, ignore_index = True)\n",
        "\n",
        "  export_csv = new_df.to_csv (r'/content/drive/My Drive/15k_CSV_Augmentation/data/{}_labels14.csv'.format(fld), index = None, header=True)"
      ],
      "execution_count": 0,
      "outputs": []
    },
    {
      "cell_type": "code",
      "metadata": {
        "id": "zBfIO5n8xuzC",
        "colab_type": "code",
        "colab": {}
      },
      "source": [
        "new_test11=flipbright2(full,'full')"
      ],
      "execution_count": 0,
      "outputs": []
    },
    {
      "cell_type": "markdown",
      "metadata": {
        "id": "T7m-FYirz4DI",
        "colab_type": "text"
      },
      "source": [
        "o: Rotating and Bright 1"
      ]
    },
    {
      "cell_type": "code",
      "metadata": {
        "id": "vmjNhV3Dz8uh",
        "colab_type": "code",
        "colab": {}
      },
      "source": [
        "from PIL import ImageEnhance"
      ],
      "execution_count": 0,
      "outputs": []
    },
    {
      "cell_type": "code",
      "metadata": {
        "id": "P4xs7gEGz-rO",
        "colab_type": "code",
        "colab": {}
      },
      "source": [
        "#Rotate Images and Labels\n",
        "def rotatebright1(z,fld):\n",
        "  new_df=z\n",
        "  for index,row in z.iterrows():\n",
        "    df2=row\n",
        "    #rotate and bright image \n",
        "    im = Image.open('images/'+fld+'/'+df2['filename'])\n",
        "    im = im.rotate(180)\n",
        "    im=ImageEnhance.Brightness(im)\n",
        "    im=im.enhance(0.8)\n",
        "    \n",
        "    im.save('o/'+fld+'/'+df2['filename'][:-4]+'o'+'.jpg')\n",
        "\n",
        "    #rotate label\n",
        "    df2['filename']=df2['filename'][:-4]+'o'+'.jpg'\n",
        "    ixmax=df2['xmax']\n",
        "    ixmin=df2['xmin']\n",
        "\n",
        "    iymax=df2['ymax']\n",
        "    iymin=df2['ymin']\n",
        "\n",
        "    df2['xmax'] = 1020 - ixmin\n",
        "    df2['xmin'] = 1020 - ixmax\n",
        "\n",
        "    df2['ymax'] = 680 - iymin\n",
        "    df2['ymin'] = 680 - iymax\n",
        "    new_df = new_df.append(df2, ignore_index = True)\n",
        "  export_csv = new_df.to_csv (r'/content/drive/My Drive/15k_CSV_Augmentation/data/{}_labels15.csv'.format(fld), index = None, header=True)"
      ],
      "execution_count": 0,
      "outputs": []
    },
    {
      "cell_type": "code",
      "metadata": {
        "id": "Gb-v-AyL0V0O",
        "colab_type": "code",
        "colab": {}
      },
      "source": [
        "new_test12=rotatebright1(full,'full')"
      ],
      "execution_count": 0,
      "outputs": []
    },
    {
      "cell_type": "markdown",
      "metadata": {
        "id": "kWsaQ1B12sh8",
        "colab_type": "text"
      },
      "source": [
        "p: Rotating and Bright 2"
      ]
    },
    {
      "cell_type": "code",
      "metadata": {
        "id": "_FbOW1og2sQ9",
        "colab_type": "code",
        "colab": {}
      },
      "source": [
        "from PIL import ImageEnhance"
      ],
      "execution_count": 0,
      "outputs": []
    },
    {
      "cell_type": "code",
      "metadata": {
        "id": "Bzi5nv4z2xSM",
        "colab_type": "code",
        "colab": {}
      },
      "source": [
        "#Rotate Images and Labels\n",
        "def rotatebright2(z,fld):\n",
        "  new_df=z\n",
        "  for index,row in z.iterrows():\n",
        "    df2=row\n",
        "    #rotate and bright image \n",
        "    im = Image.open('images/'+fld+'/'+df2['filename'])\n",
        "    im = im.rotate(180)\n",
        "    im=ImageEnhance.Brightness(im)\n",
        "    im=im.enhance(1.2)\n",
        "    \n",
        "    im.save('p/'+fld+'/'+df2['filename'][:-4]+'p'+'.jpg')\n",
        "\n",
        "    #rotate label\n",
        "    df2['filename']=df2['filename'][:-4]+'p'+'.jpg'\n",
        "    ixmax=df2['xmax']\n",
        "    ixmin=df2['xmin']\n",
        "\n",
        "    iymax=df2['ymax']\n",
        "    iymin=df2['ymin']\n",
        "\n",
        "    df2['xmax'] = 1020 - ixmin\n",
        "    df2['xmin'] = 1020 - ixmax\n",
        "\n",
        "    df2['ymax'] = 680 - iymin\n",
        "    df2['ymin'] = 680 - iymax\n",
        "    new_df = new_df.append(df2, ignore_index = True)\n",
        "  export_csv = new_df.to_csv (r'/content/drive/My Drive/15k_CSV_Augmentation/data/{}_labels16.csv'.format(fld), index = None, header=True)"
      ],
      "execution_count": 0,
      "outputs": []
    },
    {
      "cell_type": "code",
      "metadata": {
        "id": "SFTOneWJ2-3s",
        "colab_type": "code",
        "colab": {}
      },
      "source": [
        "new_test13=rotatebright2(full,'full')"
      ],
      "execution_count": 0,
      "outputs": []
    },
    {
      "cell_type": "markdown",
      "metadata": {
        "id": "e2y27jGS4Q5e",
        "colab_type": "text"
      },
      "source": [
        "q: Mirror and Contrast 1"
      ]
    },
    {
      "cell_type": "code",
      "metadata": {
        "id": "YG08Gmt64Rjz",
        "colab_type": "code",
        "colab": {}
      },
      "source": [
        "from PIL import ImageEnhance"
      ],
      "execution_count": 0,
      "outputs": []
    },
    {
      "cell_type": "code",
      "metadata": {
        "id": "UHK-zf3U4SWN",
        "colab_type": "code",
        "colab": {}
      },
      "source": [
        "#Mirror and Contrast1 Images and Labels\n",
        "def mirrorcontrast1(z,fld):\n",
        "  new_df=z\n",
        "  for index, row in z.iterrows():\n",
        "    df2=row\n",
        "    #mirror and contrast image\n",
        "    im = Image.open('images/'+fld+'/'+df2['filename'])\n",
        "    im = ImageOps.mirror(im)\n",
        "    im=ImageEnhance.Contrast(im)\n",
        "    im=im.enhance(0.75)\n",
        "    \n",
        "    im.save('q/'+fld+'/'+df2['filename'][:-4]+'q'+'.jpg')\n",
        "\n",
        "    #mirror label\n",
        "    df2['filename'] = df2['filename'][:-4]+'q'+'.jpg'\n",
        "    imax = df2['xmax']\n",
        "    imin = df2['xmin']\n",
        "    df2['xmax'] = 1020 - imin\n",
        "    df2['xmin'] = 1020 - imax\n",
        "    new_df = new_df.append(df2, ignore_index = True)\n",
        "\n",
        "  export_csv = new_df.to_csv (r'/content/drive/My Drive/15k_CSV_Augmentation/data/{}_labels17.csv'.format(fld), index = None, header=True)"
      ],
      "execution_count": 0,
      "outputs": []
    },
    {
      "cell_type": "code",
      "metadata": {
        "id": "uhqNJ9K44ST2",
        "colab_type": "code",
        "colab": {}
      },
      "source": [
        "new_test14=mirrorcontrast1(full,'full')"
      ],
      "execution_count": 0,
      "outputs": []
    },
    {
      "cell_type": "markdown",
      "metadata": {
        "id": "qKIOL9kw513E",
        "colab_type": "text"
      },
      "source": [
        "r: Mirror and Contrast 2"
      ]
    },
    {
      "cell_type": "code",
      "metadata": {
        "id": "lyX_DFNi4SQB",
        "colab_type": "code",
        "colab": {}
      },
      "source": [
        "from PIL import ImageEnhance"
      ],
      "execution_count": 0,
      "outputs": []
    },
    {
      "cell_type": "code",
      "metadata": {
        "id": "r-1kLopk4SMV",
        "colab_type": "code",
        "colab": {}
      },
      "source": [
        "#Mirror and Contrast2 Images and Labels\n",
        "def mirrorcontrast2(z,fld):\n",
        "  new_df=z\n",
        "  for index, row in z.iterrows():\n",
        "    df2=row\n",
        "    #mirror and contrast image\n",
        "    im = Image.open('images/'+fld+'/'+df2['filename'])\n",
        "    im = ImageOps.mirror(im)\n",
        "    im=ImageEnhance.Contrast(im)\n",
        "    im=im.enhance(1.25)\n",
        "    \n",
        "    im.save('r/'+fld+'/'+df2['filename'][:-4]+'r'+'.jpg')\n",
        "\n",
        "    #mirror label\n",
        "    df2['filename'] = df2['filename'][:-4]+'r'+'.jpg'\n",
        "    imax = df2['xmax']\n",
        "    imin = df2['xmin']\n",
        "    df2['xmax'] = 1020 - imin\n",
        "    df2['xmin'] = 1020 - imax\n",
        "    new_df = new_df.append(df2, ignore_index = True)\n",
        "\n",
        "  export_csv = new_df.to_csv (r'/content/drive/My Drive/15k_CSV_Augmentation/data/{}_labels18.csv'.format(fld), index = None, header=True)"
      ],
      "execution_count": 0,
      "outputs": []
    },
    {
      "cell_type": "code",
      "metadata": {
        "id": "GVl1PFJU4SJe",
        "colab_type": "code",
        "colab": {}
      },
      "source": [
        "new_test15=mirrorcontrast2(full,'full')"
      ],
      "execution_count": 0,
      "outputs": []
    },
    {
      "cell_type": "markdown",
      "metadata": {
        "id": "fEnIm8j48oLr",
        "colab_type": "text"
      },
      "source": [
        "s: Flip and Contrast 1"
      ]
    },
    {
      "cell_type": "code",
      "metadata": {
        "id": "wbak0DwJ4SEz",
        "colab_type": "code",
        "colab": {}
      },
      "source": [
        "from PIL import ImageEnhance"
      ],
      "execution_count": 0,
      "outputs": []
    },
    {
      "cell_type": "code",
      "metadata": {
        "id": "zZOrPirP8tlS",
        "colab_type": "code",
        "colab": {}
      },
      "source": [
        "#Flip and conrast1 Images and Labels\n",
        "def flipcontrast1(z,fld):\n",
        "  new_df=z\n",
        "  for index, row in z.iterrows():\n",
        "    df2=row\n",
        "    #flip and bright image\n",
        "    im = Image.open('images/'+fld+'/'+df2['filename'])\n",
        "    im = ImageOps.flip(im)\n",
        "    im=ImageEnhance.Contrast(im)\n",
        "    im=im.enhance(0.75)\n",
        "    \n",
        "    im.save('s/'+fld+'/'+df2['filename'][:-4]+'s'+'.jpg')\n",
        "\n",
        "    #flip label\n",
        "    df2['filename'] = df2['filename'][:-4]+'s'+'.jpg'\n",
        "    imax = df2['ymax']\n",
        "    imin = df2['ymin']\n",
        "    df2['ymax'] = 680 - imin\n",
        "    df2['ymin'] = 680 - imax\n",
        "    new_df = new_df.append(df2, ignore_index = True)\n",
        "\n",
        "  export_csv = new_df.to_csv (r'/content/drive/My Drive/15k_CSV_Augmentation/data/{}_labels19.csv'.format(fld), index = None, header=True)"
      ],
      "execution_count": 0,
      "outputs": []
    },
    {
      "cell_type": "code",
      "metadata": {
        "id": "M_RUPsja9Z5B",
        "colab_type": "code",
        "colab": {}
      },
      "source": [
        "new_test16=flipcontrast1(full,'full')"
      ],
      "execution_count": 0,
      "outputs": []
    },
    {
      "cell_type": "markdown",
      "metadata": {
        "id": "kbEXpBnk-TnC",
        "colab_type": "text"
      },
      "source": [
        "t: Flip and Contrast 2"
      ]
    },
    {
      "cell_type": "code",
      "metadata": {
        "id": "Gt9kKUCy-UBn",
        "colab_type": "code",
        "colab": {}
      },
      "source": [
        "from PIL import ImageEnhance"
      ],
      "execution_count": 0,
      "outputs": []
    },
    {
      "cell_type": "code",
      "metadata": {
        "id": "RHdhWXuG-WP2",
        "colab_type": "code",
        "colab": {}
      },
      "source": [
        "#Flip and conrast2 Images and Labels\n",
        "def flipcontrast2(z,fld):\n",
        "  new_df=z\n",
        "  for index, row in z.iterrows():\n",
        "    df2=row\n",
        "    #flip and bright image\n",
        "    im = Image.open('images/'+fld+'/'+df2['filename'])\n",
        "    im = ImageOps.flip(im)\n",
        "    im=ImageEnhance.Contrast(im)\n",
        "    im=im.enhance(1.25)\n",
        "    \n",
        "    im.save('t/'+fld+'/'+df2['filename'][:-4]+'t'+'.jpg')\n",
        "\n",
        "    #flip label\n",
        "    df2['filename'] = df2['filename'][:-4]+'t'+'.jpg'\n",
        "    imax = df2['ymax']\n",
        "    imin = df2['ymin']\n",
        "    df2['ymax'] = 680 - imin\n",
        "    df2['ymin'] = 680 - imax\n",
        "    new_df = new_df.append(df2, ignore_index = True)\n",
        "\n",
        "  export_csv = new_df.to_csv (r'/content/drive/My Drive/15k_CSV_Augmentation/data/{}_labels20.csv'.format(fld), index = None, header=True)"
      ],
      "execution_count": 0,
      "outputs": []
    },
    {
      "cell_type": "code",
      "metadata": {
        "id": "E0OSYdEp-WFH",
        "colab_type": "code",
        "colab": {}
      },
      "source": [
        "new_test17=flipcontrast2(full,'full')"
      ],
      "execution_count": 0,
      "outputs": []
    },
    {
      "cell_type": "markdown",
      "metadata": {
        "id": "DDNGxQpN_dxZ",
        "colab_type": "text"
      },
      "source": [
        "u: Rotate and Contrast 1"
      ]
    },
    {
      "cell_type": "code",
      "metadata": {
        "id": "LxKADKjz_geI",
        "colab_type": "code",
        "colab": {}
      },
      "source": [
        "from PIL import ImageEnhance"
      ],
      "execution_count": 0,
      "outputs": []
    },
    {
      "cell_type": "code",
      "metadata": {
        "id": "R9WsX1oh_g1i",
        "colab_type": "code",
        "colab": {}
      },
      "source": [
        "#Rotate and contrast Images and Labels\n",
        "def rotatecontrast1(z,fld):\n",
        "  new_df=z\n",
        "  for index,row in z.iterrows():\n",
        "    df2=row\n",
        "    #rotate and contrast image \n",
        "    im = Image.open('images/'+fld+'/'+df2['filename'])\n",
        "    im = im.rotate(180)\n",
        "    im=ImageEnhance.Contrast(im)\n",
        "    im=im.enhance(0.75)\n",
        "    \n",
        "    im.save('u/'+fld+'/'+df2['filename'][:-4]+'u'+'.jpg')\n",
        "\n",
        "    #rotate label\n",
        "    df2['filename']=df2['filename'][:-4]+'u'+'.jpg'\n",
        "    ixmax=df2['xmax']\n",
        "    ixmin=df2['xmin']\n",
        "\n",
        "    iymax=df2['ymax']\n",
        "    iymin=df2['ymin']\n",
        "\n",
        "    df2['xmax'] = 1020 - ixmin\n",
        "    df2['xmin'] = 1020 - ixmax\n",
        "\n",
        "    df2['ymax'] = 680 - iymin\n",
        "    df2['ymin'] = 680 - iymax\n",
        "    new_df = new_df.append(df2, ignore_index = True)\n",
        "  export_csv = new_df.to_csv (r'/content/drive/My Drive/15k_CSV_Augmentation/data/{}_labels21.csv'.format(fld), index = None, header=True)"
      ],
      "execution_count": 0,
      "outputs": []
    },
    {
      "cell_type": "code",
      "metadata": {
        "id": "FGi_Hj4R_guI",
        "colab_type": "code",
        "colab": {}
      },
      "source": [
        "new_test18=rotatecontrast1(full,'full')"
      ],
      "execution_count": 0,
      "outputs": []
    },
    {
      "cell_type": "markdown",
      "metadata": {
        "id": "ZWRYgqF5CA2L",
        "colab_type": "text"
      },
      "source": [
        "v: Rotate and Contrast2"
      ]
    },
    {
      "cell_type": "code",
      "metadata": {
        "id": "KTuDoMdqCC_n",
        "colab_type": "code",
        "colab": {}
      },
      "source": [
        "from PIL import ImageEnhance"
      ],
      "execution_count": 0,
      "outputs": []
    },
    {
      "cell_type": "code",
      "metadata": {
        "id": "BOjU2sp8CDWG",
        "colab_type": "code",
        "colab": {}
      },
      "source": [
        "#Rotate and contrast2 Images and Labels\n",
        "def rotatecontrast2(z,fld):\n",
        "  new_df=z\n",
        "  for index,row in z.iterrows():\n",
        "    df2=row\n",
        "    #rotate and contrast image \n",
        "    im = Image.open('images/'+fld+'/'+df2['filename'])\n",
        "    im = im.rotate(180)\n",
        "    im=ImageEnhance.Contrast(im)\n",
        "    im=im.enhance(1.25)\n",
        "    \n",
        "    im.save('v/'+fld+'/'+df2['filename'][:-4]+'v'+'.jpg')\n",
        "\n",
        "    #rotate label\n",
        "    df2['filename']=df2['filename'][:-4]+'v'+'.jpg'\n",
        "    ixmax=df2['xmax']\n",
        "    ixmin=df2['xmin']\n",
        "\n",
        "    iymax=df2['ymax']\n",
        "    iymin=df2['ymin']\n",
        "\n",
        "    df2['xmax'] = 1020 - ixmin\n",
        "    df2['xmin'] = 1020 - ixmax\n",
        "\n",
        "    df2['ymax'] = 680 - iymin\n",
        "    df2['ymin'] = 680 - iymax\n",
        "    new_df = new_df.append(df2, ignore_index = True)\n",
        "  export_csv = new_df.to_csv (r'/content/drive/My Drive/15k_CSV_Augmentation/data/{}_labels22.csv'.format(fld), index = None, header=True)"
      ],
      "execution_count": 0,
      "outputs": []
    },
    {
      "cell_type": "code",
      "metadata": {
        "id": "-142-Uc2CDRj",
        "colab_type": "code",
        "colab": {}
      },
      "source": [
        "new_test19=rotatecontrast2(full,'full')"
      ],
      "execution_count": 0,
      "outputs": []
    },
    {
      "cell_type": "code",
      "metadata": {
        "id": "8IceVJ5MCDEv",
        "colab_type": "code",
        "colab": {}
      },
      "source": [
        ""
      ],
      "execution_count": 0,
      "outputs": []
    },
    {
      "cell_type": "markdown",
      "metadata": {
        "id": "nVxBjuvifTmI",
        "colab_type": "text"
      },
      "source": [
        "AT THE VERY END ALL THE CSV FILES NEED TO BE COMBINED!"
      ]
    }
  ]
}